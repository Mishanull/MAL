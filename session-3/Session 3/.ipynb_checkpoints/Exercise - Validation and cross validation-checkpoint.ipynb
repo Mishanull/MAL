{
 "cells": [
  {
   "cell_type": "code",
   "execution_count": 1,
   "metadata": {},
   "outputs": [],
   "source": [
    "import mglearn\n",
    "%matplotlib inline\n",
    "import numpy as np\n",
    "import matplotlib.pyplot as plt\n",
    "import pandas as pd\n",
    "from IPython.display import display\n",
    "from sklearn.model_selection import train_test_split\n",
    "from sklearn.model_selection import cross_val_score\n",
    "import scipy as scipy\n",
    "import seaborn as sns"
   ]
  },
  {
   "cell_type": "markdown",
   "metadata": {
    "collapsed": true
   },
   "source": [
    "# Exercise\n",
    "\n",
    "In this notebook you should train a machine learning model and do hyperparameter tuning using at least 2 of the three validation methodologies we have considered. You can see how they can each be implemented in the \"Validation and cross validation\"-notebook. \n",
    "\n",
    "Below the Boston data set (which we also considered in lecture 1) is loaded. However, feel free to replace this by any other dataset of your choice (for example the Titanic dataset, the movie reviews dataset, or your own dataset if you have one!).\n",
    "\n",
    "Try to include more than one hyperparameter in the GridSearchCV. You are also welcome to replace the algorithm - you could e.g. try a decision tree (import sklearn.tree.DecisionTreeClassifier)."
   ]
  },
  {
   "cell_type": "code",
   "execution_count": 2,
   "metadata": {},
   "outputs": [
    {
     "name": "stdout",
     "output_type": "stream",
     "text": [
      "      CRIM    ZN  INDUS  CHAS    NOX     RM   AGE     DIS  RAD  TAX  PTRATIO  \\\n",
      "0  0.00632  18.0   2.31     0  0.538  6.575  65.2  4.0900    1  296     15.3   \n",
      "1  0.02731   0.0   7.07     0  0.469  6.421  78.9  4.9671    2  242     17.8   \n",
      "2  0.02729   0.0   7.07     0  0.469  7.185  61.1  4.9671    2  242     17.8   \n",
      "3  0.03237   0.0   2.18     0  0.458  6.998  45.8  6.0622    3  222     18.7   \n",
      "4  0.06905   0.0   2.18     0  0.458  7.147  54.2  6.0622    3  222     18.7   \n",
      "\n",
      "   LSTAT  MEDV  CAT.MEDV  \n",
      "0   4.98  24.0         0  \n",
      "1   9.14  21.6         0  \n",
      "2   4.03  34.7         1  \n",
      "3   2.94  33.4         1  \n",
      "4   5.33  36.2         1  \n"
     ]
    }
   ],
   "source": [
    "import pandas as pd\n",
    "\n",
    "# Path to your Excel file\n",
    "file_path = \"Boston Housing.xlsx\"\n",
    "\n",
    "# Read the Excel file into a pandas DataFrame\n",
    "data = pd.read_excel(file_path)\n",
    "\n",
    "# Display the first few rows of the DataFrame to verify\n",
    "print(data.head())\n"
   ]
  },
  {
   "cell_type": "code",
   "execution_count": null,
   "metadata": {},
   "outputs": [],
   "source": []
  }
 ],
 "metadata": {
  "kernelspec": {
   "display_name": "Python 3",
   "language": "python",
   "name": "python3"
  },
  "language_info": {
   "codemirror_mode": {
    "name": "ipython",
    "version": 3
   },
   "file_extension": ".py",
   "mimetype": "text/x-python",
   "name": "python",
   "nbconvert_exporter": "python",
   "pygments_lexer": "ipython3",
   "version": "3.11.1"
  }
 },
 "nbformat": 4,
 "nbformat_minor": 2
}
