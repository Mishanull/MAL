{
 "cells": [
  {
   "cell_type": "markdown",
   "metadata": {},
   "source": [
    "# Final Group Assignment\n",
    "- Analyzing news articles to determine if they are fake or real, using a dataset from kaggle."
   ]
  },
  {
   "cell_type": "markdown",
   "metadata": {},
   "source": [
    "### 1. Analysis: Frame the problem and look at the big picture\n",
    "2. Define the objective in business terms: Create a model capable of recognizing fake and real news.\n",
    "3. How should you frame the problem (supervised/unsupervised etc.)?: Supervised learning, with binary labeling (1 for real, 0 for fake news) \n",
    "4. How should performance be measured?: Performance will be measured by the model accuracy, correctly classified vs. all."
   ]
  },
  {
   "cell_type": "code",
   "execution_count": 40,
   "metadata": {
    "execution": {
     "iopub.execute_input": "2023-11-20T20:32:32.332364Z",
     "iopub.status.busy": "2023-11-20T20:32:32.332053Z",
     "iopub.status.idle": "2023-11-20T20:32:32.336389Z",
     "shell.execute_reply": "2023-11-20T20:32:32.335681Z",
     "shell.execute_reply.started": "2023-11-20T20:32:32.332347Z"
    }
   },
   "outputs": [],
   "source": [
    "#imports\n",
    "import pandas as pd\n",
    "import numpy as np\n",
    "from sklearn.feature_extraction.text import TfidfVectorizer\n",
    "from sklearn.model_selection import train_test_split, GridSearchCV\n",
    "from sklearn.naive_bayes import MultinomialNB\n",
    "from sklearn.metrics import accuracy_score, classification_report\n",
    "from sklearn.preprocessing import LabelEncoder\n",
    "from sklearn.neighbors import KNeighborsClassifier\n",
    "from keras.preprocessing.text import Tokenizer\n",
    "from keras.preprocessing.sequence import pad_sequences\n",
    "from keras.models import Sequential\n",
    "from keras.layers import Embedding, Flatten, Dense\n",
    "from gensim.models import Word2Vec"
   ]
  },
  {
   "cell_type": "markdown",
   "metadata": {},
   "source": [
    "### 2. Get the data\n",
    "Data were retrieved from Kaggle (link below). This data set consists of 2 csv files, one with the real and other with the real news. Both data sets have 'Title', 'Text', 'Subject' and 'Date' columns. \n",
    "\n",
    "https://www.kaggle.com/datasets/clmentbisaillon/fake-and-real-news-dataset\n",
    "\n",
    "In the next step we labeled fake and real data, with 0 and 1 respectively and then merged them into 1 dataframe and shuffled them."
   ]
  },
  {
   "cell_type": "code",
   "execution_count": 13,
   "metadata": {
    "execution": {
     "iopub.execute_input": "2023-11-20T19:10:25.158433Z",
     "iopub.status.busy": "2023-11-20T19:10:25.158230Z",
     "iopub.status.idle": "2023-11-20T19:10:25.714629Z",
     "shell.execute_reply": "2023-11-20T19:10:25.714110Z",
     "shell.execute_reply.started": "2023-11-20T19:10:25.158417Z"
    }
   },
   "outputs": [],
   "source": [
    "#Load & label fake news data\n",
    "df_fake = pd.read_csv('Fake.csv')\n",
    "df_fake['label'] = 0"
   ]
  },
  {
   "cell_type": "code",
   "execution_count": 14,
   "metadata": {
    "execution": {
     "iopub.execute_input": "2023-11-20T19:10:25.715525Z",
     "iopub.status.busy": "2023-11-20T19:10:25.715374Z",
     "iopub.status.idle": "2023-11-20T19:10:26.219823Z",
     "shell.execute_reply": "2023-11-20T19:10:26.219284Z",
     "shell.execute_reply.started": "2023-11-20T19:10:25.715511Z"
    }
   },
   "outputs": [],
   "source": [
    "#Load & label real news data\n",
    "df_true = pd.read_csv('True.csv')\n",
    "df_true['label'] = 1\n",
    "#rename all 'politicsNews' to 'politics' in df_true\n",
    "df_true['subject'] = df_true['subject'].replace('politicsNews', 'politics')"
   ]
  },
  {
   "cell_type": "code",
   "execution_count": 15,
   "metadata": {
    "execution": {
     "iopub.execute_input": "2023-11-20T19:10:26.220786Z",
     "iopub.status.busy": "2023-11-20T19:10:26.220601Z",
     "iopub.status.idle": "2023-11-20T19:10:26.227819Z",
     "shell.execute_reply": "2023-11-20T19:10:26.227049Z",
     "shell.execute_reply.started": "2023-11-20T19:10:26.220761Z"
    }
   },
   "outputs": [
    {
     "name": "stdout",
     "output_type": "stream",
     "text": [
      "['News' 'politics' 'Government News' 'left-news' 'US_News' 'Middle-east']\n",
      "['politics' 'worldnews']\n"
     ]
    }
   ],
   "source": [
    "#print distinct subjects\n",
    "print(df_fake['subject'].unique())\n",
    "print(df_true['subject'].unique())"
   ]
  },
  {
   "cell_type": "code",
   "execution_count": 17,
   "metadata": {
    "execution": {
     "iopub.execute_input": "2023-11-20T19:10:49.606012Z",
     "iopub.status.busy": "2023-11-20T19:10:49.605634Z",
     "iopub.status.idle": "2023-11-20T19:10:49.639645Z",
     "shell.execute_reply": "2023-11-20T19:10:49.638605Z",
     "shell.execute_reply.started": "2023-11-20T19:10:49.605995Z"
    },
    "scrolled": true
   },
   "outputs": [
    {
     "data": {
      "text/html": [
       "<div>\n",
       "<style scoped>\n",
       "    .dataframe tbody tr th:only-of-type {\n",
       "        vertical-align: middle;\n",
       "    }\n",
       "\n",
       "    .dataframe tbody tr th {\n",
       "        vertical-align: top;\n",
       "    }\n",
       "\n",
       "    .dataframe thead th {\n",
       "        text-align: right;\n",
       "    }\n",
       "</style>\n",
       "<table border=\"1\" class=\"dataframe\">\n",
       "  <thead>\n",
       "    <tr style=\"text-align: right;\">\n",
       "      <th></th>\n",
       "      <th>title</th>\n",
       "      <th>text</th>\n",
       "      <th>subject</th>\n",
       "      <th>date</th>\n",
       "      <th>label</th>\n",
       "    </tr>\n",
       "  </thead>\n",
       "  <tbody>\n",
       "    <tr>\n",
       "      <th>0</th>\n",
       "      <td>OBAMA WILL GIVE AWAY FREE INTERNET (To Those H...</td>\n",
       "      <td>Don t turn off your paid internet service quit...</td>\n",
       "      <td>left-news</td>\n",
       "      <td>Jul 16, 2015</td>\n",
       "      <td>0</td>\n",
       "    </tr>\n",
       "    <tr>\n",
       "      <th>1</th>\n",
       "      <td>U.S. Justice Department says anti-bias law doe...</td>\n",
       "      <td>(In this July 27 story, corrects paragraph 7 ...</td>\n",
       "      <td>politics</td>\n",
       "      <td>July 27, 2017</td>\n",
       "      <td>1</td>\n",
       "    </tr>\n",
       "    <tr>\n",
       "      <th>2</th>\n",
       "      <td>House will not reach healthcare deal before tw...</td>\n",
       "      <td>WASHINGTON (Reuters) - Deep divisions cut shor...</td>\n",
       "      <td>politics</td>\n",
       "      <td>April 5, 2017</td>\n",
       "      <td>1</td>\n",
       "    </tr>\n",
       "    <tr>\n",
       "      <th>3</th>\n",
       "      <td>Muslim holds ancient key to Jesus tomb site in...</td>\n",
       "      <td>JERUSALEM (Reuters) - As dark falls, Adeeb Jou...</td>\n",
       "      <td>worldnews</td>\n",
       "      <td>November 30, 2017</td>\n",
       "      <td>1</td>\n",
       "    </tr>\n",
       "    <tr>\n",
       "      <th>4</th>\n",
       "      <td>UK foreign secretary says Hariri should return...</td>\n",
       "      <td>BEIRUT (Reuters) - British Foreign Secretary B...</td>\n",
       "      <td>worldnews</td>\n",
       "      <td>November 12, 2017</td>\n",
       "      <td>1</td>\n",
       "    </tr>\n",
       "  </tbody>\n",
       "</table>\n",
       "</div>"
      ],
      "text/plain": [
       "                                               title  \\\n",
       "0  OBAMA WILL GIVE AWAY FREE INTERNET (To Those H...   \n",
       "1  U.S. Justice Department says anti-bias law doe...   \n",
       "2  House will not reach healthcare deal before tw...   \n",
       "3  Muslim holds ancient key to Jesus tomb site in...   \n",
       "4  UK foreign secretary says Hariri should return...   \n",
       "\n",
       "                                                text    subject  \\\n",
       "0  Don t turn off your paid internet service quit...  left-news   \n",
       "1   (In this July 27 story, corrects paragraph 7 ...   politics   \n",
       "2  WASHINGTON (Reuters) - Deep divisions cut shor...   politics   \n",
       "3  JERUSALEM (Reuters) - As dark falls, Adeeb Jou...  worldnews   \n",
       "4  BEIRUT (Reuters) - British Foreign Secretary B...  worldnews   \n",
       "\n",
       "                 date  label  \n",
       "0        Jul 16, 2015      0  \n",
       "1      July 27, 2017       1  \n",
       "2      April 5, 2017       1  \n",
       "3  November 30, 2017       1  \n",
       "4  November 12, 2017       1  "
      ]
     },
     "execution_count": 17,
     "metadata": {},
     "output_type": "execute_result"
    }
   ],
   "source": [
    "#merge & shuffle data\n",
    "df_news = pd.concat([df_fake, df_true]).sample(frac=1).reset_index(drop=True)\n",
    "df_news.head()"
   ]
  },
  {
   "cell_type": "markdown",
   "metadata": {},
   "source": [
    "# 3. Explore and visualise the data to gain insights"
   ]
  },
  {
   "cell_type": "markdown",
   "metadata": {},
   "source": [
    "# Visualization"
   ]
  },
  {
   "cell_type": "code",
   "execution_count": 18,
   "metadata": {
    "execution": {
     "iopub.execute_input": "2023-11-20T19:10:52.261435Z",
     "iopub.status.busy": "2023-11-20T19:10:52.261015Z",
     "iopub.status.idle": "2023-11-20T19:10:52.271262Z",
     "shell.execute_reply": "2023-11-20T19:10:52.270706Z",
     "shell.execute_reply.started": "2023-11-20T19:10:52.261414Z"
    }
   },
   "outputs": [
    {
     "data": {
      "text/plain": [
       "subject          label\n",
       "Government News  0         1570\n",
       "Middle-east      0          778\n",
       "News             0         9050\n",
       "US_News          0          783\n",
       "left-news        0         4459\n",
       "politics         0         6841\n",
       "                 1        11272\n",
       "worldnews        1        10145\n",
       "dtype: int64"
      ]
     },
     "execution_count": 18,
     "metadata": {},
     "output_type": "execute_result"
    }
   ],
   "source": [
    "#group data by subject and label\n",
    "df_news.groupby(['subject', 'label']).size()"
   ]
  },
  {
   "cell_type": "code",
   "execution_count": 19,
   "metadata": {
    "execution": {
     "iopub.execute_input": "2023-11-20T19:10:53.183815Z",
     "iopub.status.busy": "2023-11-20T19:10:53.183398Z",
     "iopub.status.idle": "2023-11-20T19:10:53.665271Z",
     "shell.execute_reply": "2023-11-20T19:10:53.664763Z",
     "shell.execute_reply.started": "2023-11-20T19:10:53.183796Z"
    }
   },
   "outputs": [
    {
     "data": {
      "text/plain": [
       "[Text(0, 0, 'Fake'), Text(1, 0, 'Real')]"
      ]
     },
     "execution_count": 19,
     "metadata": {},
     "output_type": "execute_result"
    },
    {
     "data": {
      "image/png": "[encoded data removed]",
      "text/plain": [
       "<Figure size 640x480 with 1 Axes>"
      ]
     },
     "metadata": {},
     "output_type": "display_data"
    }
   ],
   "source": [
    "#fake vs real news\n",
    "df_news.groupby(['label']).size().plot(kind='bar', color=['red', 'blue']).set_xticklabels(['Fake', 'Real'], rotation=0)"
   ]
  },
  {
   "cell_type": "code",
   "execution_count": 20,
   "metadata": {
    "execution": {
     "iopub.execute_input": "2023-11-20T19:10:54.231114Z",
     "iopub.status.busy": "2023-11-20T19:10:54.230516Z",
     "iopub.status.idle": "2023-11-20T19:10:54.391859Z",
     "shell.execute_reply": "2023-11-20T19:10:54.391399Z",
     "shell.execute_reply.started": "2023-11-20T19:10:54.231087Z"
    }
   },
   "outputs": [
    {
     "data": {
      "text/plain": [
       "<Axes: xlabel='subject'>"
      ]
     },
     "execution_count": 20,
     "metadata": {},
     "output_type": "execute_result"
    },
    {
     "data": {
      "image/png": "[encoded data removed]",
      "text/plain": [
       "<Figure size 800x500 with 1 Axes>"
      ]
     },
     "metadata": {},
     "output_type": "display_data"
    }
   ],
   "source": [
    "#number of articles per subject and label\n",
    "df_news.groupby(['subject', 'label']).size().unstack().plot(kind='bar', stacked=False, figsize=(8, 5))"
   ]
  },
  {
   "cell_type": "code",
   "execution_count": 21,
   "metadata": {
    "execution": {
     "iopub.execute_input": "2023-11-20T19:10:54.707315Z",
     "iopub.status.busy": "2023-11-20T19:10:54.706856Z",
     "iopub.status.idle": "2023-11-20T19:10:54.736773Z",
     "shell.execute_reply": "2023-11-20T19:10:54.736094Z",
     "shell.execute_reply.started": "2023-11-20T19:10:54.707293Z"
    }
   },
   "outputs": [
    {
     "name": "stdout",
     "output_type": "stream",
     "text": [
      "JERUSALEM (Reuters) - As dark falls, Adeeb Joudeh, a Muslim, makes his way through the stone alleyways of Jerusalem s walled Old City cradling the ancient key to one of Christianity s holiest sites. Centuries ago, the imposing iron key to the Church of the Holy Sepulchre, built where many Christians believe Jesus was crucified and buried, was entrusted to his family, one of Jerusalem s most prominent clans, says Joudeh. He dates the arrangement back to the time of Saladin, the Muslim conqueror who seized the holy city from the Crusaders in 1187.  Honestly, it s a great honor for a Muslim to hold the key to the Church of the Holy Sepulchre, which is the most important church in Christendom,  Joudeh, 53, said.     Another of the city s oldest Muslim families, the Nusseibehs, were entrusted with the duty of opening and closing the church doors, a task they perform to this day. It requires firm fingers: The key is 30 cm (12 inches) long and weighs 250 grams (0.5 pounds). Historians differ on the roots of the arrangement. Some researchers say Saladin most likely bestowed the guardianship upon the two families in order to assert Muslim dominance over Christianity in the city. It also had financial implications, with a tax from visitors collected at the door.   Documentation, however, only goes back to the 16th century, Joudeh said, displaying dozens of  Fermans , or royal decrees by  rulers of the Ottoman empire, bestowing the key custodianship upon his family. Jerusalem s Old City today houses sites that are sacred to all three major monotheisms. It and other east Jerusalem areas were captured by Israel from Jordan in the 1967 Middle East war. Israel has since declared the entire city its undivided capital. This status is not recognized internationally and is rejected by the Palestinians who want East Jerusalem as capital of a state they hope to found.   Joudeh says his key is about 800 years old. Another copy he holds broke after centuries of use.   I started learning this when I was eight years old. It s handed down from father to son,  said Joudeh.  I have been doing this for 30 years and I feel that the Church of the Holy Sepulchre is my second home.       The Greek Orthodox, Armenian and Roman Catholic denominations share custody of the church, where tensions often run high over control of its various sectors. Christianity scholar Yisca Harani said having Muslim families in charge of the key and the doors helps somewhat in keeping the peace between the denominations.   The church is definitely a model of co-existence,  Harani said. \n",
      "---------------------------------\n",
      "BEIRUT (Reuters) - British Foreign Secretary Boris Johnson said on Sunday he hopes Saad al-Hariri, who announced last week from Saudi Arabia that he was resigning as prime minister of Lebanon, returns to Beirut  without further delay . In a statement, Johnson said he had spoken with Lebanese foreign minister Gebran Bassil on Sunday and reiterated Britain s support for Lebanon. Johnson said Lebanon  should not be used as tool for proxy conflicts  and its independence should be respected. \n",
      "---------------------------------\n",
      "ISTANBUL (Reuters) - The U.S. case against a Turkish gold trader accused of evading U.S. sanctions on Iran is based on evidence fabricated by the network of the Muslim cleric Ankara blames for last year s coup attempt, Turkey s foreign minister said on Friday. Mevlut Cavusoglu said the case against the trader, Reza Zarrab, showed the extent to which followers of the U.S.-based cleric, Fethullah Gulen, had infiltrated American state institutions, including its judiciary and overseas missions. The Zarrab case has complicated already strained relations between the United States and Turkey, both members of the NATO military alliance. U.S. prosecutors have charged the wealthy Iranian-born Zarrab and his alleged co-conspirators of handling hundreds of millions of dollars for Iran s government and Iranian entities from 2010 to 2015, in a scheme to evade U.S. sanctions. While nine people have been criminally charged, only Zarrab and a banker from Turkey s Halkbank, Mehmet Hakan Atilla, are in U.S. custody. Both are due to go on trial on Nov. 27, and have pleaded not guilty.  When you look at the indictment of Mr Zarrab it is exactly the same one that FETO actually prepared here in Turkey in 2013,  Cavusoglu told reporters at a briefing in Istanbul, using the government s term for Gulen s network.   So this case is very much a FETO-motivated one, this is for sure. All those indictments and files they fabricated here were taken back to the United States.  Under a Turkish investigation that became public in 2013, prosecutors accused Zarrab and high-ranking Turkish officials of involvement in facilitating Iranian money transfers via gold smuggling, leaked documents at the time showed.  Erdogan, then prime minister, cast the case as a coup attempt orchestrated by his political enemies. Several prosecutors were removed from the case, police investigators were reassigned, and the investigation was later dropped. Turkey blames Gulen s followers for the July 2016 failed coup, when a group of rogue soldiers attempted to overthrow the government and killed more than 250 people. Gulen, who has lived in self-imposed exile in the United States since 1999, has denied any involvement and condemned the coup.  Turkey has repeatedly requested Gulen s extradition, but U.S. officials have said the courts require sufficient evidence before they can extradite the elderly cleric.  The United States says its judiciary is independent of any political or other interference. Cavusoglu said he had informed U.S. Secretary of State Rex Tillerson of what Ankara sees as the Gulenists  attempts to spread their influence.  I told him very openly that I believe that FETO has infiltrated his missions here in Turkey through the local staff, and the Halkbank case and the Zarrab case are very much FETO-motivated ones. I am very open. He didn t make a comment on this,  Cavusoglu said. Last month Turkey arrested a local employee working at the U.S. consulate in Istanbul over alleged links to Gulen s network, prompting an angry reaction from Washington that led to both countries scaling back visa services they provide for each other s nationals. On Nov. 6, Ankara and Washington said they would resume visa services on a limited basis, although ties remain strained. [nL8N1NM6XB] \n",
      "---------------------------------\n",
      "WASHINGTON (Reuters) - The U.S. State Department said on Tuesday that municipal elections in Cuba over the weekend were flawed because authorities used  intimidation, arcane technicalities and false charges  to keep independent candidates off of the ballot.  The elections that took place further demonstrate how the Cuban regime maintains an authoritarian state while attempting to sell the myth of a democracy around the world,  State Department spokeswoman Heather Nauert told a briefing.  Despite courageous efforts by an unprecedented number of independent candidates this year, none were allowed on the ballot.  \n",
      "---------------------------------\n",
      "OSLO (Reuters) - Following is the text of the Nobel Peace Prize award on Friday to the International Campaign to Abolish Nuclear Weapons: The Norwegian Nobel Committee has decided to award the Nobel Peace Prize for 2017 to the International Campaign to Abolish Nuclear Weapons (ICAN).  The organization is receiving the award for its work to draw attention to the catastrophic humanitarian consequences of any use of nuclear weapons and for its ground-breaking efforts to achieve a treaty-based prohibition of such weapons. We live in a world where the risk of nuclear weapons being used is greater than it has been for a long time. Some states are modernizing their nuclear arsenals, and there is a real danger that more countries will try to procure nuclear weapons, as exemplified by North Korea.  Nuclear weapons pose a constant threat to humanity and all life on earth. Through binding international agreements, the international community has previously adopted prohibitions against land mines, cluster munitions and biological and chemical weapons. Nuclear weapons are even more destructive, but have not yet been made the object of a similar international legal prohibition. Through its work, ICAN has helped to fill this legal gap. An important argument in the rationale for prohibiting nuclear weapons is the unacceptable human suffering that a nuclear war will cause. ICAN is a coalition of non-governmental organizations from around 100 different countries around the globe. The coalition has been a driving force in prevailing upon the world s nations to pledge to cooperate with all relevant stakeholders in efforts to stigmatize, prohibit and eliminate nuclear weapons. To date, 108 states have made such a commitment, known as the Humanitarian Pledge. Furthermore, ICAN has been the leading civil society actor in the endeavor to achieve a prohibition of nuclear weapons under international law. On 7 July 2017, 122 of the UN member states acceded to the Treaty on the Prohibition of Nuclear Weapons.  As soon as the treaty has been ratified by 50 states, the ban on nuclear weapons will enter into force and will be binding under international law for all the countries that are party to the treaty. The Norwegian Nobel Committee is aware that an international legal prohibition will not in itself eliminate a single nuclear weapon, and that so far neither the states that already have nuclear weapons nor their closest allies support the nuclear weapon ban treaty.  The Committee wishes to emphasize that the next steps towards attaining a world free of nuclear weapons must involve the nuclear-armed states. This year s Peace Prize is therefore also a call upon these states to initiate serious negotiations with a view to the gradual, balanced and carefully monitored elimination of the almost 15,000 nuclear weapons in the world. Five of the states that currently have nuclear weapons   the USA, Russia, the United Kingdom, France and China   have already committed to this objective through their accession to the Treaty on the Non-Proliferation of Nuclear Weapons of 1970. The Non-Proliferation Treaty will remain the primary international legal instrument for promoting nuclear disarmament and preventing the further spread of such weapons. It is now 71 years since the UN General Assembly, in its very first resolution, advocated the importance of nuclear disarmament and a nuclear weapon-free world. With this year s award, the Norwegian Nobel Committee wishes to pay tribute to ICAN for giving new momentum to the efforts to achieve this goal. The decision to award the Nobel Peace Prize for 2017 to the International Campaign to Abolish Nuclear Weapons has a solid grounding in Alfred Nobel s will.  The will specifies three different criteria for awarding the Peace Prize: the promotion of fraternity between nations, the advancement of disarmament and arms control and the holding and promotion of peace congresses. ICAN works vigorously to achieve nuclear disarmament.  ICAN and a majority of UN member states have contributed to fraternity between nations by supporting the Humanitarian Pledge. And through its inspiring and innovative support for the UN negotiations on a treaty banning nuclear weapons, ICAN has played a major part in bringing about what in our day and age is equivalent to an international peace congress. It is the firm conviction of the Norwegian Nobel Committee that ICAN, more than anyone else, has in the past year given the efforts to achieve a world without nuclear weapons a new direction and new vigor. \n",
      "---------------------------------\n"
     ]
    }
   ],
   "source": [
    "#print the full text of the first 5 articles of subject 'worldnews'\n",
    "for i in range(5):\n",
    "    print(df_news[(df_news['subject'] == 'worldnews') & (df_news['label'] == 1)]['text'].iloc[i])\n",
    "    print('---------------------------------')"
   ]
  },
  {
   "cell_type": "code",
   "execution_count": 24,
   "metadata": {
    "execution": {
     "iopub.execute_input": "2023-11-20T19:11:10.537868Z",
     "iopub.status.busy": "2023-11-20T19:11:10.537645Z",
     "iopub.status.idle": "2023-11-20T19:11:12.745219Z",
     "shell.execute_reply": "2023-11-20T19:11:12.744711Z",
     "shell.execute_reply.started": "2023-11-20T19:11:10.537851Z"
    }
   },
   "outputs": [
    {
     "data": {
      "text/plain": [
       "[Text(0, 0, 'Fake'), Text(1, 0, 'Real')]"
      ]
     },
     "execution_count": 24,
     "metadata": {},
     "output_type": "execute_result"
    },
    {
     "data": {
      "image/png": "[encoded data removed]",
      "text/plain": [
       "<Figure size 640x480 with 1 Axes>"
      ]
     },
     "metadata": {},
     "output_type": "display_data"
    }
   ],
   "source": [
    "#average word count of articles per label\n",
    "df_news.groupby(['label'])['text'].apply(lambda x: x.str.split().str.len().mean()).plot(kind='bar', color=['red', 'blue']).set_xticklabels(['Fake', 'Real'], rotation=0)"
   ]
  },
  {
   "cell_type": "code",
   "execution_count": 25,
   "metadata": {
    "execution": {
     "iopub.execute_input": "2023-11-20T19:11:14.516042Z",
     "iopub.status.busy": "2023-11-20T19:11:14.515828Z",
     "iopub.status.idle": "2023-11-20T19:11:16.347295Z",
     "shell.execute_reply": "2023-11-20T19:11:16.346882Z",
     "shell.execute_reply.started": "2023-11-20T19:11:14.516022Z"
    }
   },
   "outputs": [
    {
     "data": {
      "text/plain": [
       "<Axes: xlabel='subject'>"
      ]
     },
     "execution_count": 25,
     "metadata": {},
     "output_type": "execute_result"
    },
    {
     "data": {
      "image/png": "[encoded data removed]",
      "text/plain": [
       "<Figure size 800x500 with 1 Axes>"
      ]
     },
     "metadata": {},
     "output_type": "display_data"
    }
   ],
   "source": [
    "#average word count of articles per subject per label\n",
    "df_news.groupby(['subject', 'label'])['text'].apply(lambda x: x.str.split().str.len().mean()).unstack().plot(kind='bar', figsize=(8, 5))"
   ]
  },
  {
   "cell_type": "markdown",
   "metadata": {},
   "source": [
    "# Correlation"
   ]
  },
  {
   "cell_type": "code",
   "execution_count": 26,
   "metadata": {
    "execution": {
     "iopub.execute_input": "2023-11-20T19:11:18.513916Z",
     "iopub.status.busy": "2023-11-20T19:11:18.513700Z",
     "iopub.status.idle": "2023-11-20T19:11:18.676541Z",
     "shell.execute_reply": "2023-11-20T19:11:18.676035Z",
     "shell.execute_reply.started": "2023-11-20T19:11:18.513900Z"
    }
   },
   "outputs": [
    {
     "data": {
      "text/plain": [
       "<Axes: xlabel='date'>"
      ]
     },
     "execution_count": 26,
     "metadata": {},
     "output_type": "execute_result"
    },
    {
     "data": {
      "image/png": "[encoded data removed]",
      "text/plain": [
       "<Figure size 1500x500 with 1 Axes>"
      ]
     },
     "metadata": {},
     "output_type": "display_data"
    }
   ],
   "source": [
    "#correlation between date and label\n",
    "df_news.groupby(['date', 'label']).size().unstack().plot(kind='line', figsize=(15, 5))"
   ]
  },
  {
   "cell_type": "code",
   "execution_count": 27,
   "metadata": {
    "execution": {
     "iopub.execute_input": "2023-11-20T19:11:18.844007Z",
     "iopub.status.busy": "2023-11-20T19:11:18.843801Z",
     "iopub.status.idle": "2023-11-20T19:11:19.018505Z",
     "shell.execute_reply": "2023-11-20T19:11:19.017971Z",
     "shell.execute_reply.started": "2023-11-20T19:11:18.843991Z"
    }
   },
   "outputs": [
    {
     "data": {
      "text/plain": [
       "[Text(0, 0, 'No'), Text(1, 0, 'Yes')]"
      ]
     },
     "execution_count": 27,
     "metadata": {},
     "output_type": "execute_result"
    },
    {
     "data": {
      "image/png": "[encoded data removed]",
      "text/plain": [
       "<Figure size 640x480 with 1 Axes>"
      ]
     },
     "metadata": {},
     "output_type": "display_data"
    }
   ],
   "source": [
    "#add column 'contains_Reuters' that will be 1 if the article contains the word 'Reuters' and 0 otherwise\n",
    "df_news['contains_Reuters'] = df_news['text'].apply(lambda x: 1 if 'Reuters' in x else 0)\n",
    "\n",
    "#correlation between label and 'contains_Reuters'\n",
    "df_news.groupby(['contains_Reuters', 'label']).size().unstack().plot(kind='bar', color=['red', 'blue']).set_xticklabels(['No', 'Yes'], rotation=0)"
   ]
  },
  {
   "cell_type": "markdown",
   "metadata": {},
   "source": [
    "- The plot above shows the correlation between the authenticity of the news and whether the news agency Reuters appears as a source or not, which we noticed while taking a first glance at the data.\n",
    "- This is self-explanatory, since Reuters is a reliable source of information.\n",
    "- There are a few outliers where the news are true even if reuters doesn't appear in the text or reuters is cited as the source, but the text overall probably contains half true information."
   ]
  },
  {
   "cell_type": "markdown",
   "metadata": {},
   "source": [
    "# 4. Prepare the data"
   ]
  },
  {
   "cell_type": "markdown",
   "metadata": {},
   "source": [
    "- function for transforming text data: TF-IDF (Term Frequency - Inverse Document Frequency) \n",
    "- splitting the data including training, testing and validation sets\n",
    "- using only title and text on the X variable\n",
    "- labels will be the label column (0 or 1, namely fake or real)"
   ]
  },
  {
   "cell_type": "code",
   "execution_count": 42,
   "metadata": {
    "execution": {
     "iopub.execute_input": "2023-11-20T20:44:11.082081Z",
     "iopub.status.busy": "2023-11-20T20:44:11.081663Z",
     "iopub.status.idle": "2023-11-20T20:44:11.087515Z",
     "shell.execute_reply": "2023-11-20T20:44:11.086937Z",
     "shell.execute_reply.started": "2023-11-20T20:44:11.082055Z"
    }
   },
   "outputs": [],
   "source": [
    "from sklearn.feature_extraction.text import TfidfVectorizer\n",
    "\n",
    "def transform_with_tfidf(X_train, X_val, X_test, max_df=0.6):\n",
    "    \"\"\"\n",
    "    Transform input data using TfidfVectorizer.\n",
    "\n",
    "    Parameters:\n",
    "    - X_train: Training data\n",
    "    - X_val: Validation data\n",
    "    - X_test: Test data\n",
    "    - max_df: Maximum document frequency for TfidfVectorizer\n",
    "\n",
    "    Returns:\n",
    "    - X_train_tfidf: Transformed training data\n",
    "    - X_val_tfidf: Transformed validation data\n",
    "    - X_test_tfidf: Transformed test data\n",
    "    \"\"\"\n",
    "\n",
    "    tfidf_vectorizer = TfidfVectorizer(stop_words='english', max_df=max_df)\n",
    "\n",
    "    X_train_tfidf = tfidf_vectorizer.fit_transform(X_train)\n",
    "\n",
    "    X_val_tfidf = tfidf_vectorizer.transform(X_val)\n",
    "    X_test_tfidf = tfidf_vectorizer.transform(X_test)\n",
    "\n",
    "    return X_train_tfidf, X_val_tfidf, X_test_tfidf"
   ]
  },
  {
   "cell_type": "code",
   "execution_count": 31,
   "metadata": {
    "execution": {
     "iopub.execute_input": "2023-11-20T20:21:07.131920Z",
     "iopub.status.busy": "2023-11-20T20:21:07.131699Z",
     "iopub.status.idle": "2023-11-20T20:21:07.240468Z",
     "shell.execute_reply": "2023-11-20T20:21:07.239922Z",
     "shell.execute_reply.started": "2023-11-20T20:21:07.131900Z"
    }
   },
   "outputs": [],
   "source": [
    "X = df_news['title'] + ' ' + df_news['text']\n",
    "y = df_news['label']\n",
    "\n",
    "X_train, X_temp, y_train, y_temp = train_test_split(X, y, test_size=0.2, random_state=42)\n",
    "X_val, X_test, y_val, y_test = train_test_split(X_temp, y_temp, test_size=0.5, random_state=42)"
   ]
  },
  {
   "cell_type": "markdown",
   "metadata": {},
   "source": [
    "# 5. Short-list promising models\n",
    "- we are sorting them by the method we are using to transform the text:\n",
    "   - for TF-IDF: MultinomialNaiveBayes, K-Nearest-Neighbors as classifiers, CNN and RNN as neural networks\n",
    "   - for Word2Vec: A simple neural network with default parameters (which we can then fine tune if we choose this model)"
   ]
  },
  {
   "cell_type": "markdown",
   "metadata": {},
   "source": [
    "## I. TF-IDF"
   ]
  },
  {
   "cell_type": "code",
   "execution_count": 32,
   "metadata": {
    "execution": {
     "iopub.execute_input": "2023-11-20T20:21:10.789224Z",
     "iopub.status.busy": "2023-11-20T20:21:10.788271Z",
     "iopub.status.idle": "2023-11-20T20:21:20.518650Z",
     "shell.execute_reply": "2023-11-20T20:21:20.518126Z",
     "shell.execute_reply.started": "2023-11-20T20:21:10.789162Z"
    }
   },
   "outputs": [],
   "source": [
    "X_train_tfidf, X_val_tfidf, X_test_tfidf = transform_with_tfidf(X_train, X_val, X_test, max_df=0.6)"
   ]
  },
  {
   "cell_type": "markdown",
   "metadata": {},
   "source": [
    "### a) Multinomial naive bayes "
   ]
  },
  {
   "cell_type": "code",
   "execution_count": 37,
   "metadata": {
    "execution": {
     "iopub.execute_input": "2023-11-20T20:30:36.940812Z",
     "iopub.status.busy": "2023-11-20T20:30:36.940487Z",
     "iopub.status.idle": "2023-11-20T20:30:37.013270Z",
     "shell.execute_reply": "2023-11-20T20:30:37.012641Z",
     "shell.execute_reply.started": "2023-11-20T20:30:36.940795Z"
    }
   },
   "outputs": [
    {
     "name": "stdout",
     "output_type": "stream",
     "text": [
      "Accuracy: 0.94\n",
      "Validation Accuracy: 0.93\n",
      "              precision    recall  f1-score   support\n",
      "\n",
      "           0       0.93      0.95      0.94      2372\n",
      "           1       0.94      0.93      0.93      2118\n",
      "\n",
      "    accuracy                           0.94      4490\n",
      "   macro avg       0.94      0.94      0.94      4490\n",
      "weighted avg       0.94      0.94      0.94      4490\n",
      "\n"
     ]
    }
   ],
   "source": [
    "clf = MultinomialNB()\n",
    "clf.fit(X_train_tfidf, y_train)\n",
    "\n",
    "y_pred = clf.predict(X_test_tfidf)\n",
    "\n",
    "accuracy = accuracy_score(y_test, y_pred)\n",
    "print(f'Accuracy: {accuracy:.2f}')\n",
    "\n",
    "y_val_pred = clf.predict(X_val_tfidf)\n",
    "\n",
    "val_accuracy = accuracy_score(y_val, y_val_pred)\n",
    "print(f'Validation Accuracy: {val_accuracy:.2f}')\n",
    "\n",
    "print(classification_report(y_test, y_pred))"
   ]
  },
  {
   "cell_type": "markdown",
   "metadata": {},
   "source": [
    "### b) KNN with an arbitrary number of neighbors"
   ]
  },
  {
   "cell_type": "code",
   "execution_count": 43,
   "metadata": {
    "execution": {
     "iopub.execute_input": "2023-11-20T20:49:01.276682Z",
     "iopub.status.busy": "2023-11-20T20:49:01.276491Z",
     "iopub.status.idle": "2023-11-20T20:56:48.687149Z",
     "shell.execute_reply": "2023-11-20T20:56:48.686628Z",
     "shell.execute_reply.started": "2023-11-20T20:49:01.276665Z"
    }
   },
   "outputs": [
    {
     "name": "stdout",
     "output_type": "stream",
     "text": [
      "Test Accuracy: 0.89\n",
      "              precision    recall  f1-score   support\n",
      "\n",
      "           0       0.95      0.83      0.89      2372\n",
      "           1       0.84      0.95      0.89      2118\n",
      "\n",
      "    accuracy                           0.89      4490\n",
      "   macro avg       0.89      0.89      0.89      4490\n",
      "weighted avg       0.89      0.89      0.89      4490\n",
      "\n"
     ]
    }
   ],
   "source": [
    "knn_classifier = KNeighborsClassifier(n_neighbors=5) \n",
    "knn_classifier.fit(X_train_tfidf, y_train)\n",
    "\n",
    "y_pred = knn_classifier.predict(X_test_tfidf)\n",
    "\n",
    "accuracy = accuracy_score(y_test, y_pred)\n",
    "print(f'Test Accuracy: {accuracy:.2f}')\n",
    "\n",
    "print(classification_report(y_test, y_pred))"
   ]
  },
  {
   "cell_type": "markdown",
   "metadata": {},
   "source": [
    "### c) Convolutional Neural Network"
   ]
  },
  {
   "cell_type": "markdown",
   "metadata": {},
   "source": [
    "### d) Recursive Neural Network"
   ]
  },
  {
   "cell_type": "markdown",
   "metadata": {},
   "source": [
    "### f) Testing out the most promising one from above with new data (some random article texts)"
   ]
  },
  {
   "cell_type": "markdown",
   "metadata": {},
   "source": [
    "## II) Using WordEmbeddings for text representation (Word2Vec) and a simple neural network"
   ]
  },
  {
   "cell_type": "code",
   "execution_count": null,
   "metadata": {
    "execution": {
     "iopub.execute_input": "2023-11-20T12:45:02.874471Z",
     "iopub.status.busy": "2023-11-20T12:45:02.873519Z",
     "iopub.status.idle": "2023-11-20T12:58:04.146734Z",
     "shell.execute_reply": "2023-11-20T12:58:04.146100Z",
     "shell.execute_reply.started": "2023-11-20T12:45:02.874447Z"
    }
   },
   "outputs": [],
   "source": [
    "X = df_news['title'] + ' ' + df_news['text']\n",
    "y = df_news['label']\n",
    "\n",
    "# Convert labels to numerical values\n",
    "label_encoder = LabelEncoder()\n",
    "y = label_encoder.fit_transform(y)\n",
    "\n",
    "# Split the data into training and testing sets\n",
    "X_train, X_test, y_train, y_test = train_test_split(X, y, test_size=0.2, random_state=42)\n",
    "\n",
    "# Tokenize the text data\n",
    "max_words = 10000  # Adjust based on the size of your vocabulary\n",
    "tokenizer = Tokenizer(num_words=max_words)\n",
    "tokenizer.fit_on_texts(X_train)\n",
    "\n",
    "X_train_seq = tokenizer.texts_to_sequences(X_train)\n",
    "X_test_seq = tokenizer.texts_to_sequences(X_test)\n",
    "\n",
    "# Pad sequences to ensure consistent length for input to neural network\n",
    "max_sequence_length = 1000  # Adjust based on your dataset\n",
    "X_train_padded = pad_sequences(X_train_seq, maxlen=max_sequence_length)\n",
    "X_test_padded = pad_sequences(X_test_seq, maxlen=max_sequence_length)\n",
    "\n",
    "# Train Word2Vec model\n",
    "tokenized_sentences = [text.split() for text in X_train]\n",
    "word2vec_model = Word2Vec(sentences=tokenized_sentences, vector_size=100, window=5, min_count=1, workers=4)\n",
    "\n",
    "# Create an embedding matrix\n",
    "embedding_dim = 100\n",
    "embedding_matrix = np.zeros((max_words, embedding_dim))\n",
    "for word, i in tokenizer.word_index.items():\n",
    "    if i < max_words:\n",
    "        try:\n",
    "            embedding_vector = word2vec_model.wv[word]\n",
    "            embedding_matrix[i] = embedding_vector\n",
    "        except KeyError:\n",
    "            # Word not in Word2Vec model vocabulary\n",
    "            pass\n",
    "\n",
    "# Build a simple neural network model\n",
    "model = Sequential()\n",
    "model.add(Embedding(max_words, embedding_dim, input_length=max_sequence_length, weights=[embedding_matrix], trainable=False))\n",
    "model.add(Flatten())\n",
    "model.add(Dense(128, activation='relu'))\n",
    "model.add(Dense(1, activation='sigmoid'))\n",
    "\n",
    "# Compile the model\n",
    "model.compile(optimizer='adam', loss='binary_crossentropy', metrics=['accuracy'])\n",
    "\n",
    "# Train the model\n",
    "model.fit(X_train_padded, y_train, epochs=5, batch_size=32, validation_split=0.2)"
   ]
  },
  {
   "cell_type": "code",
   "execution_count": null,
   "metadata": {
    "execution": {
     "iopub.execute_input": "2023-11-20T12:58:21.759672Z",
     "iopub.status.busy": "2023-11-20T12:58:21.759449Z",
     "iopub.status.idle": "2023-11-20T12:58:26.383241Z",
     "shell.execute_reply": "2023-11-20T12:58:26.382688Z",
     "shell.execute_reply.started": "2023-11-20T12:58:21.759658Z"
    },
    "scrolled": true
   },
   "outputs": [],
   "source": [
    "# Evaluate the model on the test set\n",
    "y_pred = model.predict(X_test_padded)\n",
    "y_pred = y_pred.flatten()\n",
    "\n",
    "# Convert predictions back to original labels\n",
    "y_pred_labels = label_encoder.inverse_transform(((y_pred > 0.5).astype(int)))\n",
    "print(y_pred_labels)\n",
    "print(y_test)\n",
    "# Evaluate the model\n",
    "accuracy = accuracy_score(y_test, y_pred_labels)\n",
    "print(f'Test Accuracy: {accuracy:.2f}')\n",
    "\n",
    "# Print classification report for the test set\n",
    "print(classification_report(y_test, y_pred_labels))"
   ]
  },
  {
   "cell_type": "markdown",
   "metadata": {},
   "source": [
    "# 6. Choosing a model and fine-tuning it"
   ]
  },
  {
   "cell_type": "code",
   "execution_count": null,
   "metadata": {},
   "outputs": [],
   "source": []
  }
 ],
 "metadata": {
  "kernelspec": {
   "display_name": "Python 3 (ipykernel)",
   "language": "python",
   "name": "python3"
  },
  "language_info": {
   "codemirror_mode": {
    "name": "ipython",
    "version": 3
   },
   "file_extension": ".py",
   "mimetype": "text/x-python",
   "name": "python",
   "nbconvert_exporter": "python",
   "pygments_lexer": "ipython3",
   "version": "3.11.6"
  }
 },
 "nbformat": 4,
 "nbformat_minor": 4
}
