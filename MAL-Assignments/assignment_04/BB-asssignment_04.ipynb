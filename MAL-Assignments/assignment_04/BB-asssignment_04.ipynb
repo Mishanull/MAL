{
 "cells": [
  {
   "cell_type": "code",
   "execution_count": null,
   "metadata": {},
   "outputs": [],
   "source": [
    "import pandas as pd\n",
    "import openpyxl\n",
    "\n",
    "pd.set_option('display.max_columns', None)\n",
    "pd.set_option('display.max_rows', None)"
   ]
  },
  {
   "cell_type": "code",
   "execution_count": null,
   "metadata": {},
   "outputs": [],
   "source": [
    "#read data from excel file\n",
    "drdata_df = pd.read_excel('drdata.xlsx')\n",
    "drq_df = pd.read_excel('drq.xlsx')\n",
    "alldata_df = pd.read_excel('alldata.xlsx')\n",
    "\n",
    "tv2data_df = pd.read_excel('tv2data.xlsx')\n",
    "tv2q_df = pd.read_excel('tv2q.xlsx')\n",
    "\n",
    "candidate_df = pd.read_excel('electeddata.xlsx')"
   ]
  },
  {
   "cell_type": "code",
   "execution_count": null,
   "metadata": {},
   "outputs": [],
   "source": [
    "#count the number of unique values in all columns of drq_df\n",
    "drq_df.nunique()"
   ]
  },
  {
   "cell_type": "code",
   "execution_count": null,
   "metadata": {},
   "outputs": [],
   "source": [
    "#count the number of unique values in all columns of tv2q_df\n",
    "print(tv2q_df.nunique())\n",
    "\n",
    "# #print uniqe values in all columns of tv2q_df\n",
    "# for col in tv2q_df.columns:\n",
    "#     print(col, tv2q_df[col].unique())\n",
    "\n",
    "#print header and count of question in tv2q_df where count is greater than 1\n",
    "q = tv2q_df['question'].value_counts()\n",
    "#print rows from tv2q_df where question is in q\n",
    "tv2q_df[tv2q_df['question'].isin(q.index[q.gt(1)])]"
   ]
  },
  {
   "cell_type": "code",
   "execution_count": null,
   "metadata": {},
   "outputs": [],
   "source": [
    "alldata_df.head()"
   ]
  },
  {
   "cell_type": "code",
   "execution_count": null,
   "metadata": {},
   "outputs": [],
   "source": [
    "candidate_df.head()"
   ]
  },
  {
   "cell_type": "code",
   "execution_count": null,
   "metadata": {},
   "outputs": [],
   "source": [
    "X = alldata_df\n",
    "\n",
    "#parti handling\n",
    "# X = pd.get_dummies(X, columns=['parti'])\n",
    "# represent each parti with a number\n",
    "X['parti_id'] = X['parti'].factorize()[0]\n",
    "\n",
    "#drop non-numeric columns from alldata_df\n",
    "for col in X.columns:\n",
    "    if X[col].dtype == 'object' :\n",
    "        X = X.drop(columns=[col])\n",
    "\n",
    "#drop age column from X\n",
    "X = X.drop(columns=['alder'])"
   ]
  },
  {
   "cell_type": "code",
   "execution_count": null,
   "metadata": {},
   "outputs": [],
   "source": [
    "#questions that influence the result the most:\n",
    "#correlation matrix for parti-id and all other columns sorted ascending\n",
    "corr_matrix = X.corr()\n",
    "print(corr_matrix['parti_id'].sort_values(ascending=False))"
   ]
  },
  {
   "cell_type": "code",
   "execution_count": null,
   "metadata": {},
   "outputs": [],
   "source": [
    "#count the number of rows where age is 0\n",
    "# candidate_df[candidate_df['alder'] == 0]\n",
    "candidate_df.loc[candidate_df['alder'] == 0, 'alder'].count()"
   ]
  },
  {
   "cell_type": "code",
   "execution_count": null,
   "metadata": {},
   "outputs": [],
   "source": [
    "#replace age 0 with median of the corresponding parti\n",
    "candidate_df.loc[candidate_df['alder'] == 0, 'alder'] = candidate_df.groupby('parti')['alder'].transform('median')\n",
    "candidate_df.loc[candidate_df['alder'] == 0, 'alder'].count()"
   ]
  },
  {
   "cell_type": "code",
   "execution_count": null,
   "metadata": {},
   "outputs": [],
   "source": [
    "#average of all columns grouped by parti_id\n",
    "candidate_df_without_name = candidate_df.drop(columns=['navn', 'storkreds'])\n",
    "candidate_df_without_name.groupby('parti').mean()"
   ]
  },
  {
   "cell_type": "code",
   "execution_count": null,
   "metadata": {},
   "outputs": [],
   "source": [
    "#average and median of age grouped by parti\n",
    "candidate_df_without_name.groupby('parti').agg(['min','max','mean','median'])['alder']"
   ]
  },
  {
   "cell_type": "code",
   "execution_count": null,
   "metadata": {},
   "outputs": [],
   "source": [
    "#plot the mean of the 555 column\n",
    "candidate_df_without_name.groupby('parti').mean()['555'].plot(kind='bar')"
   ]
  },
  {
   "cell_type": "code",
   "execution_count": null,
   "metadata": {},
   "outputs": [],
   "source": [
    "#plot the mean of the 543 column\n",
    "candidate_df_without_name.groupby('parti').mean()['543'].plot(kind='bar')"
   ]
  },
  {
   "cell_type": "code",
   "execution_count": null,
   "metadata": {},
   "outputs": [],
   "source": [
    "#group by parti and count number of occurences of -2 or 2 in all columns\n",
    "candidate_df_without_name.groupby('parti').agg(lambda x: (x == -2).sum() + (x == 2).sum())"
   ]
  },
  {
   "cell_type": "code",
   "execution_count": null,
   "metadata": {},
   "outputs": [],
   "source": [
    "#number of \"strong\" responses per candidate\n",
    "candidates_frame = candidate_df.groupby('navn').agg(lambda x: (x == -2).sum() + (x == 2).sum()).sum(axis=1).to_frame('sum')\n",
    "candidates_frame_with_party = candidates_frame.join(candidate_df.set_index('navn')['parti'])\n",
    "candidates_frame_with_party.sort_values(by=['sum'], ascending=False)"
   ]
  },
  {
   "cell_type": "code",
   "execution_count": null,
   "metadata": {},
   "outputs": [],
   "source": [
    "#boxplot of the 555 column grouped by parti\n",
    "candidate_df_without_name.boxplot(column=['555'], by='parti', rot=90)"
   ]
  },
  {
   "cell_type": "code",
   "execution_count": null,
   "metadata": {},
   "outputs": [],
   "source": [
    "#do PCA on the alldata_df and select the first 2 components\n",
    "from sklearn import decomposition\n",
    "pca = decomposition.PCA(n_components=None)\n",
    "pca.fit(X)\n",
    "\n",
    "#print first 5 explained variance ratios as float\n",
    "for i in range(5):\n",
    "    print(pca.explained_variance_ratio_[i])\n"
   ]
  },
  {
   "cell_type": "code",
   "execution_count": null,
   "metadata": {},
   "outputs": [],
   "source": [
    "#plot a curve showing PCAs explained variance ratios\n",
    "from matplotlib import pyplot as plt\n",
    "import numpy as np\n",
    "\n",
    "x = list(range(1, 1 + len(pca.explained_variance_ratio_)))\n",
    "plt.plot(x, np.cumsum(pca.explained_variance_ratio_))\n",
    "plt.xlabel('number of components')\n",
    "plt.ylabel('cumulative explained variance')\n",
    "plt.show()"
   ]
  },
  {
   "cell_type": "code",
   "execution_count": null,
   "metadata": {},
   "outputs": [],
   "source": [
    "#assign a numeric id to each parti\n",
    "alldata_df['parti_id'] = pd.factorize(alldata_df['parti'])[0]\n",
    "\n",
    "colors_palette = ['blue', 'green', 'orange', 'red', 'purple', 'pink', 'brown', 'gray', 'black', 'cyan', 'teal', 'pink', 'yellow', 'magenta', 'olive']\n",
    "#assign a color to each parti based on the parti_id\n",
    "alldata_df['color'] = alldata_df['parti_id'].apply(lambda x: colors_palette[x])\n",
    "\n",
    "alldata_df[['parti', 'parti_id', 'color']].head()"
   ]
  },
  {
   "cell_type": "code",
   "execution_count": null,
   "metadata": {},
   "outputs": [],
   "source": [
    "#plot the first 2 components of the PCA\n",
    "pca2 = decomposition.PCA(n_components=2)\n",
    "res2 = pca2.fit_transform(X)\n",
    "\n",
    "#plot the first 2 components of the PCA with parti as color, add a legend with the parti names\n",
    "# plt.scatter(res2[:, 0], res2[:, 1], c=alldata_df['color'])\n",
    "for parti_id in alldata_df['parti_id'].unique():\n",
    "    plt.scatter(res2[alldata_df['parti_id'] == parti_id, 0], res2[alldata_df['parti_id'] == parti_id, 1], c=colors_palette[parti_id])\n",
    "#place a legend to the right of this smaller subplot\n",
    "plt.legend(alldata_df['parti'].unique(), bbox_to_anchor=(1.05, 1), loc='upper left', borderaxespad=0.)\n",
    "plt.show()"
   ]
  },
  {
   "cell_type": "code",
   "execution_count": null,
   "metadata": {},
   "outputs": [],
   "source": [
    "res2_df = pd.DataFrame(res2, columns=['PC1', 'PC2'])\n",
    "#add parti_id to res2_df\n",
    "# res2_df['parti_id'] = alldata_df['parti_id']\n",
    "#add parti to res2_df\n",
    "res2_df['parti'] = alldata_df['parti']\n",
    "\n",
    "#boxplot of the first 2 components of the PCA grouped by parti_id\n",
    "res2_df.boxplot(column=['PC1'], by='parti', rot=90)"
   ]
  },
  {
   "cell_type": "code",
   "execution_count": null,
   "metadata": {},
   "outputs": [],
   "source": [
    "res2_df.boxplot(column=['PC1'], by='parti', rot=90)"
   ]
  },
  {
   "cell_type": "code",
   "execution_count": null,
   "metadata": {},
   "outputs": [],
   "source": []
  }
 ],
 "metadata": {
  "kernelspec": {
   "display_name": "Python 3",
   "language": "python",
   "name": "python3"
  },
  "language_info": {
   "codemirror_mode": {
    "name": "ipython",
    "version": 3
   },
   "file_extension": ".py",
   "mimetype": "text/x-python",
   "name": "python",
   "nbconvert_exporter": "python",
   "pygments_lexer": "ipython3",
   "version": "3.11.4"
  }
 },
 "nbformat": 4,
 "nbformat_minor": 2
}
