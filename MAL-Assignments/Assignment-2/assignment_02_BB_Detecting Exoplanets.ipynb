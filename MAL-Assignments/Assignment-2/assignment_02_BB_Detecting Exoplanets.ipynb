{
 "cells": [
  {
   "cell_type": "markdown",
   "metadata": {},
   "source": [
    "## 2. Preprocessing and Performance: Detecting ExoPlanets"
   ]
  },
  {
   "cell_type": "markdown",
   "metadata": {},
   "source": [
    "**Objective**: Utilize data from the **K2 Kepler mission** (which concluded in 2018) to develop a machine learning model that assists in classifying celestial bodies and determining their exoplanet status. An exoplanet is defined as \"A planet that orbits a star outside the solar system\".\n",
    "\n",
    "**Background**: The Kepler Mission was strategically devised to survey a segment of the Milky Way galaxy. Its primary goal was to identify Earth-sized or smaller planets situated in or near the habitable zone. This would further help in estimating the fraction of stars in our galaxy that might host such planets (_Nasa.gov, 2018_). The assignment itself is based almost completely on a previous student project from MAL 2022 submitted by Pavel Balan and Alex Vasilianov.\n",
    "\n",
    "**Data Source**: The dataset is provided by the NASA Exoplanet Archive, NASA Exoplanet Science Institute [here](https://exoplanetarchive.ipac.caltech.edu/cgi-bin/TblView/nph-tblView?app=ExoTbls&config=koi). There are several datasets available, all from differet periods, but we will use the __Cumulative KOI Data__ dataset.\n",
    "\n",
    "The cumulative KOI (Kepler Objects of interest) table gathers information from the individual KOI activity tables that describe the current results of different searches of the Kepler light curves. The intent of the cumulative table is to provide the most accurate dispositions and stellar and planetary information for all KOIs in one place. All the information in this table has provenance in other KOI activity tables (_exoplanetarchive.ipac.caltech.edu, 2018_).\n",
    "\n",
    "The data has been locally downloaded and saved as `exoplanet_dataset.csv`.\n",
    "\n",
    "\n",
    "#### Overall Instructions\n",
    "1. Explore the dataset to understand the features and their distributions.\n",
    "2. Preprocess the data, handling any missing values, outliers, or other anomalies.\n",
    "3. Choose appropriate machine learning algorithms for the classification task.\n",
    "4. Train and validate your model, ensuring to avoid overfitting.\n",
    "5. Evaluate the model's performance using relevant metrics.\n",
    "\n",
    "Below some guidelines are given but the assignment is relatively \"free\".\n",
    "\n",
    "Best of luck with your analysis!\n"
   ]
  },
  {
   "cell_type": "markdown",
   "metadata": {},
   "source": [
    "### 1. Explore"
   ]
  },
  {
   "cell_type": "code",
   "execution_count": null,
   "metadata": {},
   "outputs": [],
   "source": [
    "# Loading the data (change this if you want other var-names, etc.)\n",
    "import pandas as pd\n",
    "\n",
    "exoplanet_df = pd.read_csv('exoplanet_dataset.csv')\n",
    "\n",
    "print(exoplanet_df.shape, \"- 9564 rows with 49 features\")\n",
    "\n",
    "pd.set_option('display.max_columns', None)\n",
    "exoplanet_df.head()"
   ]
  },
  {
   "cell_type": "markdown",
   "metadata": {},
   "source": [
    "**COLUMN NAME | COLUMN DESCRIPTION [Data measurement unit type]**\n",
    "\n",
    "COLUMN kepid:          KepID <br/>\n",
    "COLUMN kepoi_name:     KOI Name <br/>\n",
    "COLUMN kepler_name:    Kepler Name <br/>\n",
    "COLUMN koi_disposition: Exoplanet Archive Disposition <br/>\n",
    "COLUMN koi_pdisposition: Disposition Using Kepler Data <br/>\n",
    "COLUMN koi_score:      Disposition Score <br/>\n",
    "COLUMN koi_fpflag_nt:  Not Transit-Like False Positive Flag <br/>\n",
    "COLUMN koi_fpflag_ss:  Stellar Eclipse False Positive Flag <br/>\n",
    "COLUMN koi_fpflag_co:  Centroid Offset False Positive Flag <br/>\n",
    "COLUMN koi_fpflag_ec:  Ephemeris Match Indicates Contamination False Positive Flag <br/>\n",
    "COLUMN koi_period:     Orbital Period [days] <br/>\n",
    "COLUMN koi_period_err1: Orbital Period Upper Unc. [days] <br/>\n",
    "COLUMN koi_period_err2: Orbital Period Lower Unc. [days] <br/>\n",
    "COLUMN koi_time0bk:    Transit Epoch [BKJD] <br/>\n",
    "COLUMN koi_time0bk_err1: Transit Epoch Upper Unc. [BKJD] <br/>\n",
    "COLUMN koi_time0bk_err2: Transit Epoch Lower Unc. [BKJD] <br/>\n",
    "COLUMN koi_impact:     Impact Parameter <br/>\n",
    "COLUMN koi_impact_err1: Impact Parameter Upper Unc. <br/>\n",
    "COLUMN koi_impact_err2: Impact Parameter Lower Unc. <br/>\n",
    "COLUMN koi_duration:   Transit Duration [hrs] <br/>\n",
    "COLUMN koi_duration_err1: Transit Duration Upper Unc. [hrs] <br/>\n",
    "COLUMN koi_duration_err2: Transit Duration Lower Unc. [hrs] <br/>\n",
    "COLUMN koi_depth:      Transit Depth [ppm] <br/>\n",
    "COLUMN koi_depth_err1: Transit Depth Upper Unc. [ppm] <br/>\n",
    "COLUMN koi_depth_err2: Transit Depth Lower Unc. [ppm] <br/>\n",
    "COLUMN koi_prad:       Planetary Radius [Earth radii] <br/>\n",
    "COLUMN koi_prad_err1:  Planetary Radius Upper Unc. [Earth radii] <br/>\n",
    "COLUMN koi_prad_err2:  Planetary Radius Lower Unc. [Earth radii] <br/>\n",
    "COLUMN koi_teq:        Equilibrium Temperature [K] <br/>\n",
    "COLUMN koi_teq_err1:   Equilibrium Temperature Upper Unc. [K] <br/>\n",
    "COLUMN koi_teq_err2:   Equilibrium Temperature Lower Unc. [K] <br/>\n",
    "COLUMN koi_insol:      Insolation Flux [Earth flux] <br/>\n",
    "COLUMN koi_insol_err1: Insolation Flux Upper Unc. [Earth flux] <br/>\n",
    "COLUMN koi_insol_err2: Insolation Flux Lower Unc. [Earth flux] <br/>\n",
    "COLUMN koi_model_snr:  Transit Signal-to-Noise <br/>\n",
    "COLUMN koi_tce_plnt_num: TCE Planet Number <br/>\n",
    "COLUMN koi_tce_delivname: TCE Delivery <br/>\n",
    "COLUMN koi_steff:      Stellar Effective Temperature [K] <br/>\n",
    "COLUMN koi_steff_err1: Stellar Effective Temperature Upper Unc. [K] <br/>\n",
    "COLUMN koi_steff_err2: Stellar Effective Temperature Lower Unc. [K] <br/>\n",
    "COLUMN koi_slogg:      Stellar Surface Gravity [log10(cm/s^2)] <br/>\n",
    "COLUMN koi_slogg_err1: Stellar Surface Gravity Lower Unc. [log10(cm/s^2)] <br/>\n",
    "COLUMN koi_slogg_err2: Stellar Surface Gravity Lower Unc. [log10(cm/s^2)] <br/>\n",
    "COLUMN koi_srad:       Stellar Radius [Solar radii] <br/>\n",
    "COLUMN koi_srad_err1:  Stellar Radius Upper Unc. [Solar radii] <br/>\n",
    "COLUMN koi_srad_err2:  Stellar Radius Lower Unc. [Solar radii] <br/>\n",
    "COLUMN ra:             RA [decimal degrees] <br/>\n",
    "COLUMN dec:            Dec [decimal degrees] <br/>\n",
    "COLUMN koi_kepmag:     Kepler-band [mag] <br/>"
   ]
  },
  {
   "cell_type": "code",
   "execution_count": null,
   "metadata": {},
   "outputs": [],
   "source": [
    "# For an easier comprehension, we will rename the columns into their description.\n",
    "\n",
    "exoplanet_df = exoplanet_df.rename(columns={'kepid':'KepID',\n",
    "'kepoi_name':'KOIName',\n",
    "'kepler_name':'KeplerName',\n",
    "'koi_disposition':'ExoplanetArchiveDisposition',\n",
    "'koi_pdisposition':'DispositionUsingKeplerData',\n",
    "'koi_score':'DispositionScore',\n",
    "'koi_fpflag_nt':'NotTransit-LikeFalsePositiveFlag',\n",
    "'koi_fpflag_ss':'koi_fpflag_ss',\n",
    "'koi_fpflag_co':'CentroidOffsetFalsePositiveFlag',\n",
    "'koi_fpflag_ec':'EphemerisMatchIndicatesContaminationFalsePositiveFlag',\n",
    "'koi_period':'OrbitalPeriod, days',\n",
    "'koi_period_err1':'OrbitalPeriodUpperUnc, days',\n",
    "'koi_period_err2':'OrbitalPeriodLowerUnc, days',\n",
    "'koi_time0bk':'TransitEpoch, BKJD',\n",
    "'koi_time0bk_err1':'TransitEpochUpperUnc, BKJD',\n",
    "'koi_time0bk_err2':'TransitEpochLowerUnc, BKJD',\n",
    "'koi_impact':'ImpactParamete',\n",
    "'koi_impact_err1':'ImpactParameterUpperUnc',\n",
    "'koi_impact_err2':'ImpactParameterLowerUnc',\n",
    "'koi_duration':'TransitDuration, hrs',\n",
    "'koi_duration_err1':'TransitDurationUpperUnc, hrs',\n",
    "'koi_duration_err2':'TransitDurationLowerUnc, hrs',\n",
    "'koi_depth':'TransitDepth, ppm',\n",
    "'koi_insol':'InsolationFlux, Earthflux',\n",
    "'koi_insol_err1':'InsolationFluxUpperUnc, Earthflux',\n",
    "'koi_insol_err2':'InsolationFluxLowerUnc, Earthflux',\n",
    "'koi_model_snr':'TransitSignal-to-Noise',\n",
    "'koi_tce_plnt_num':'TCEPlanetNumber',\n",
    "'koi_tce_delivname':'TCEDeliver',\n",
    "'koi_steff':'StellarEffectiveTemperature, K',\n",
    "'koi_steff_err1':'StellarEffectiveTemperatureUpperUnc, K',\n",
    "'koi_steff_err2':'StellarEffectiveTemperatureLowerUnc, K',\n",
    "'koi_depth_err1':'TransitDepthUpperUnc, ppm',\n",
    "'koi_depth_err2':'TransitDepthLowerUnc, ppm',\n",
    "'koi_prad':'PlanetaryRadius, Earthradii',\n",
    "'koi_prad_err1':'PlanetaryRadiusUpperUnc, Earthradii',\n",
    "'koi_prad_err2':'PlanetaryRadiusLowerUnc, Earthradii',\n",
    "'koi_teq':'EquilibriumTemperature, K',\n",
    "'koi_teq_err1':'EquilibriumTemperatureUpperUnc, K',\n",
    "'koi_teq_err2':'EquilibriumTemperatureLowerUnc, K',\n",
    "'koi_slogg':'StellarSurfaceGravity, log10(cm/s^2)',\n",
    "'koi_slogg_err1':'StellarSurfaceGravityUpperUnc, log10(cm/s^2)',\n",
    "'koi_slogg_err2':'StellarSurfaceGravityLowerUnc, log10(cm/s^2)',\n",
    "'koi_srad':'StellarRadius, Solarradii',\n",
    "'koi_srad_err1':'StellarRadiusUpperUnc, Solarradii',\n",
    "'koi_srad_err2':'StellarRadiusLowerUnc, Solarradii',\n",
    "'ra':'RA, decimaldegrees',\n",
    "'dec':'Dec, decimaldegrees',\n",
    "'koi_kepmag':'Kepler-band, mag'\n",
    "})"
   ]
  },
  {
   "cell_type": "markdown",
   "metadata": {},
   "source": [
    "**Updated data type value analysis**"
   ]
  },
  {
   "cell_type": "markdown",
   "metadata": {},
   "source": [
    "#### Description of some of the features\n",
    "\n",
    "Given that some of the features might not be as straightforward going by their names, here are some descriptions for some of them, taken from the [Exoplanet Archive](https://exoplanetarchive.ipac.caltech.edu/docs/API_kepcandidate_columns.html)."
   ]
  },
  {
   "cell_type": "markdown",
   "metadata": {},
   "source": [
    "`DispositionScore` - A value between 0 and 1 that indicates the confidence in the KOI disposition. For CANDIDATEs, a higher value indicates more confidence in its disposition, while for FALSE POSITIVEs, a higher value indicates less confidence in that disposition. The value is calculated from a Monte Carlo technique such that the score's value is equivalent to the fraction of iterations where the Robovetter yields a disposition of CANDIDATE.\n",
    "\n",
    "`NotTransit-LikeFlag` A KOI whose light curve is not consistent with that of a transiting planet. This includes, but is not limited to, instrumental artifacts, non-eclipsing variable stars, and spurious (very low SNR) detections.\t\n",
    "\n",
    "`StellarEclipseFlag` A KOI that is observed to have a significant secondary event, transit shape, or out-of-eclipse variability, which indicates that the transit-like event is most likely caused by an eclipsing binary. However, self-luminous, hot Jupiters with a visible secondary eclipse will also have this flag set, but with a disposition of PC.\n",
    "\n",
    "`Centroid Offset Flag` The source of the signal is from a nearby star, as inferred by measuring the centroid location of the image both in and out of transit, or by the strength of the transit signal in the target's outer (halo) pixels as compared to the transit signal from the pixels in the optimal (or core) aperture.\n",
    "\n",
    "`EphemerisMatchIndicatesContaminationFlag` The KOI shares the same period and epoch as another object and is judged to be the result of flux contamination in the aperture or electronic crosstalk.\n",
    "\n",
    "`Upper/LowerUnc` Uncertainties Columns(positive +)(negative -) aka - the error range for the columns. \n",
    "\n",
    "`TransitEpoch`\tThe time corresponding to the center of the first detected transit in Barycentric Julian Day (BJD).\n",
    "\n",
    "`ImpactParameter`\tThe sky-projected distance between the center of the stellar disc and the center of the planet disc at conjunction, normalized by the stellar radius.\n",
    "\n",
    "`TransitDepth` (parts per million)\tThe fraction of stellar flux lost at the minimum of the planetary transit. Transit depths are typically computed from a best-fit model produced by a Mandel-Agol (2002) model fit to a multi-quarter Kepler light curve, assuming a linear orbital ephemeris.\n",
    "\n",
    "`InsolationFlux` [Earth flux]\tInsolation flux is another way to give the equilibrium temperature. It depends on the stellar parameters (specifically the stellar radius and temperature), and on the semi-major axis of the planet. It's given in units relative to those measured for the Earth from the Sun.\n",
    "\n",
    "`Equilibrium Temperature` (Kelvin)\tApproximation for the temperature of the planet. The calculation of equilibrium temperature assumes a) thermodynamic equilibrium between the incident stellar flux and the radiated heat from the planet, b) a Bond albedo (the fraction of total power incident upon the planet scattered back into space) of 0.3, c) the planet and star are blackbodies, and d) the heat is evenly distributed between the day and night sides of the planet.\n",
    "\n",
    "`RA` Right ascension (abbreviated RA; symbol α) is the angular distance of a particular point measured eastward along the celestial equator from the Sun at the March equinox to the (hour circle of the) point in question above the earth.\n",
    "\n",
    "`Dec` declination (abbreviated dec; symbol δ) is one of the two angles that locate a point on the celestial sphere in the equatorial coordinate system, the other being hour angle. "
   ]
  },
  {
   "cell_type": "markdown",
   "metadata": {},
   "source": [
    "#### Target identification and modelling\n",
    "\n",
    "Because this problem uses a supervised approach, we can determine the labels from the dataframe.\n",
    "We have the columns `DispositionUsingKeplerData` and `ExoplanetArchiveDisposition`. The first one holds values of either 'CANDIDATE' or 'FALSE POSITIVE'. The second one - 'CONFRIMED', 'CANDIDATE' or 'FALSE POSITIVE'. We will use `DispositionUsingKeplerData` as our only label, as we will be searching only for candidates. `ExoplanetArchiveDisposition` will still be used for data visualization however."
   ]
  },
  {
   "cell_type": "code",
   "execution_count": null,
   "metadata": {},
   "outputs": [],
   "source": [
    "#print distinct values of DispositionUsingKeplerData and ExoplanetArchiveDisposition\n",
    "print(exoplanet_df['DispositionUsingKeplerData'].unique())\n",
    "print(exoplanet_df['ExoplanetArchiveDisposition'].unique())"
   ]
  },
  {
   "cell_type": "code",
   "execution_count": null,
   "metadata": {},
   "outputs": [],
   "source": [
    "import seaborn as sns\n",
    "sns.countplot(x = exoplanet_df['DispositionUsingKeplerData'])\n",
    "print(exoplanet_df['DispositionUsingKeplerData'].value_counts())"
   ]
  },
  {
   "cell_type": "code",
   "execution_count": null,
   "metadata": {},
   "outputs": [],
   "source": [
    "sns.countplot(x= exoplanet_df['ExoplanetArchiveDisposition'])\n",
    "print(exoplanet_df['ExoplanetArchiveDisposition'].value_counts())"
   ]
  },
  {
   "cell_type": "markdown",
   "metadata": {},
   "source": [
    "#### Tasks"
   ]
  },
  {
   "cell_type": "markdown",
   "metadata": {},
   "source": [
    "-  Explore missing values by finding the the precentage of missing values for each column - print as a dataframe\n",
    "-  Visualise the missing values of the columns with the 5 most percentage of missing value\n",
    "-  Identify potential outliers of the numeric features. This can be done in many ways but you should probably try to write some kind of script/loop that will iterate through the features and calculate the number of values outside [Q1 - 1.5IQR ; Q3 + 1.5IQR]. Don't remove them just yet but discuss what could be a good approach.\n",
    "-  Determine what to do with potential outlier: keep, replace or remove"
   ]
  },
  {
   "cell_type": "code",
   "execution_count": null,
   "metadata": {},
   "outputs": [],
   "source": [
    "#find percentege of missing values for each column, print as dataframe\n",
    "missing_values = exoplanet_df.isnull().sum().sort_values(ascending=False)\n",
    "percentage_missing_values = ((missing_values/len(exoplanet_df))*100).round(2)\n",
    "percentage_missing_values = percentage_missing_values.to_frame()\n",
    "percentage_missing_values.columns = ['Percentage of missing values']\n",
    "percentage_missing_values\n",
    "\n",
    "#visualize 5 columns with most missing values\n",
    "from matplotlib import pyplot as plt\n",
    "sns.barplot(x=percentage_missing_values.index[0:5], y='Percentage of missing values', data=percentage_missing_values[0:5])\n",
    "plt.xticks(rotation=90)\n",
    "plt.show()\n"
   ]
  },
  {
   "cell_type": "code",
   "execution_count": null,
   "metadata": {},
   "outputs": [],
   "source": [
    "#identify potential outliers of numerical columns\n",
    "numerical_columns = exoplanet_df.select_dtypes(include=['int64', 'float64']).columns\n",
    "numerical_columns = numerical_columns.drop(['KepID'])\n",
    "\n",
    "#iterate through numerical columns and calculate number of values Q1-1.5*IQR and Q3+1.5*IQR\n",
    "for column in numerical_columns:\n",
    "    q1 = exoplanet_df[column].quantile(0.25)\n",
    "    q3 = exoplanet_df[column].quantile(0.75)\n",
    "    iqr = q3-q1\n",
    "    lower_limit = q1-1.5*iqr\n",
    "    upper_limit = q3+1.5*iqr\n",
    "    print(column, \":\", exoplanet_df[(exoplanet_df[column]<lower_limit) | (exoplanet_df[column]>upper_limit)][column].count())"
   ]
  },
  {
   "cell_type": "markdown",
   "metadata": {},
   "source": [
    "### 2. Feature Engineering\n",
    "\n",
    "#### Tasks\n",
    "\n",
    "-  Based only on the analysis above, you should be able to remove some columns (two of the columns will have 100% missing values). Remove these columns.\n",
    "-  Filter out (i.e. remove) any irrelevant columns (e.g. names, IDs, etc.) - there should be 4\n",
    "-  Remove rows with missing values, NaNs, nulls and/or infinite values - if you want, you may choose to impute instead\n",
    "-  If you you chose to remove or replace outliers do this now. If you chose to keep, move on\n",
    "-  Create a correlation matrix and discuss (use only numeric columns, perhaps make an extra dataset just with numeric values) - drop appropriate columns\n",
    "-  The values of `ExoplanetArchiveDisposition` and `ExoplanetArchiveDisposition` are categorical and if they are to act like labels, you should change them. Change them as follows: 'FALSE POSITIVE' values is assigned a numerical value of `0`, 'CANDIDATE' assigned `1`, and 'CONFIRMED' a `2`. Same assignment in both features. The easiest way is to create two new features, call them `KeplerDispositionStatus` and `ArchiveDispositionStatus`, and then drop the originalæ features. It will look something like this (the last couple of columns in the new dataframe):"
   ]
  },
  {
   "attachments": {
    "image.png": {
     "image/png": "[encoded data removed]"
    }
   },
   "cell_type": "markdown",
   "metadata": {},
   "source": [
    "![image.png](attachment:image.png)"
   ]
  },
  {
   "cell_type": "code",
   "execution_count": null,
   "metadata": {},
   "outputs": [],
   "source": [
    "#drop columns with 100% missing values\n",
    "exoplanet_df = exoplanet_df.drop(['EquilibriumTemperatureLowerUnc, K', 'EquilibriumTemperatureUpperUnc, K'], axis=1)\n",
    "#remove irrelevant columns (names, ids, etc.)\n",
    "exoplanet_df = exoplanet_df.drop(['KepID', 'KOIName', 'KeplerName', 'TCEPlanetNumber', 'TCEDeliver'], axis=1)\n",
    "#remove NaN values\n",
    "exoplanet_df = exoplanet_df.dropna()\n",
    "#replace outliers with median\n",
    "numerical_columns = exoplanet_df.select_dtypes(include=['int64', 'float64']).columns\n",
    "for column in numerical_columns:\n",
    "    q1 = exoplanet_df[column].quantile(0.25)\n",
    "    q3 = exoplanet_df[column].quantile(0.75)\n",
    "    iqr = q3-q1\n",
    "    lower_limit = q1-1.5*iqr\n",
    "    upper_limit = q3+1.5*iqr\n",
    "    exoplanet_df[column] = exoplanet_df[column].mask((exoplanet_df[column]<lower_limit) | (exoplanet_df[column]>upper_limit), exoplanet_df[column].median())\n"
   ]
  },
  {
   "cell_type": "code",
   "execution_count": null,
   "metadata": {},
   "outputs": [],
   "source": [
    "#create columns based on 'DispositionUsingKeplerData' and 'ExoplanetArchiveDisposition' columns named 'KeplerDispositionStatus' and 'ArchiveDispositionStatus'\n",
    "#if 'FALSE POSITIVE' then 0, else if 'Candidate' then 1, else if 'CONFIRMED' then 2\n",
    "exoplanet_df['KeplerDispositionStatus'] = exoplanet_df['DispositionUsingKeplerData'].apply(lambda x: 0 if x == 'FALSE POSITIVE' else (1 if x == 'CANDIDATE' else 2))\n",
    "exoplanet_df['ArchiveDispositionStatus'] = exoplanet_df['ExoplanetArchiveDisposition'].apply(lambda x: 0 if x == 'FALSE POSITIVE' else (1 if x == 'CANDIDATE' else 2))\n",
    "#drop 'DispositionUsingKeplerData' and 'ExoplanetArchiveDisposition' columns\n",
    "exoplanet_df = exoplanet_df.drop(['DispositionUsingKeplerData', 'ExoplanetArchiveDisposition'], axis=1)"
   ]
  },
  {
   "cell_type": "markdown",
   "metadata": {},
   "source": [
    "#### Tasks continued\n",
    "-  Consider whether some features should be transformed (e.g. using log, square root etc.) and do this if found relevant\n",
    "-  Place `KeplerDispositionStatus` as the target and remove the following from the features: `DispositionScore`, `KeplerDispositionStatus`, `ArchiveDispositionStatus`\n",
    "- Consider scaling your (numeric) data\n",
    "- You should now have two datasets, one with cleaned features and one with the target labels (1 for Candidate and 0 otherwise)"
   ]
  },
  {
   "cell_type": "code",
   "execution_count": null,
   "metadata": {},
   "outputs": [],
   "source": [
    "#find correlation with 'KeplerDispositionStatus' (target) and sort values\n",
    "correlation_with_target = exoplanet_df.corrwith(exoplanet_df['KeplerDispositionStatus']).sort_values(ascending=False)\n",
    "print(correlation_with_target)\n",
    "\n",
    "#store columns with correlation < x in a list for later dropping\n",
    "x = 0.2\n",
    "columns_to_drop = []\n",
    "for i in range(len(correlation_with_target)):\n",
    "    if abs(correlation_with_target.iloc[i]) < x:\n",
    "        # print(correlation_with_target.index[i], correlation_with_target.iloc[i])\n",
    "        columns_to_drop.append(correlation_with_target.index[i]) "
   ]
  },
  {
   "cell_type": "code",
   "execution_count": null,
   "metadata": {},
   "outputs": [],
   "source": [
    "#drop columns with correlation < x\n",
    "exoplanet_df = exoplanet_df.drop(columns_to_drop, axis=1)"
   ]
  },
  {
   "cell_type": "code",
   "execution_count": 44,
   "metadata": {},
   "outputs": [],
   "source": [
    "#place 'KeplerDispositionStatus' as target column and remove 'DispositionScore', 'KeplerDispositionStatus' and 'ArchiveDispositionStatus' columns\n",
    "target_column = exoplanet_df['KeplerDispositionStatus']\n",
    "model_df = exoplanet_df.drop(['DispositionScore', 'KeplerDispositionStatus', 'ArchiveDispositionStatus'], axis=1)\n",
    "#drop 'StellarEffectiveTemperatureUpperUnc, K' and 'StellarEffectiveTemperatureLowerUnc, K', 'StellarRadiusUpperUnc, Solarradii' and 'StellarSurfaceGravityLowerUnc, log10(cm/s^2)' columns\n",
    "model_df = model_df.drop(['StellarEffectiveTemperatureUpperUnc, K'], axis=1) #causing error -must be removed\n",
    "model_df = model_df.drop(['StellarEffectiveTemperatureLowerUnc, K'], axis=1) #causing error -must be removed \n",
    "model_df = model_df.drop(['StellarSurfaceGravityLowerUnc, log10(cm/s^2)'], axis=1) #causing error -must be removed\n",
    "model_df = model_df.drop(['StellarRadiusUpperUnc, Solarradii'], axis=1) #causing error -must be removed"
   ]
  },
  {
   "cell_type": "code",
   "execution_count": 45,
   "metadata": {},
   "outputs": [
    {
     "name": "stdout",
     "output_type": "stream",
     "text": [
      "OrbitalPeriodLowerUnc, days OrbitalPeriodUpperUnc, days -1.0\n"
     ]
    }
   ],
   "source": [
    "numerical_columns = model_df.select_dtypes(include=['int64', 'float64']).columns\n",
    "#create a correlation matrix of numerical columns\n",
    "correlation_matrix = model_df[numerical_columns].corr().round(2)\n",
    "\n",
    "#print columns with correlation > x and store them in a list for later dropping\n",
    "x = 0.75\n",
    "columns_to_drop = []\n",
    "for i in range(len(correlation_matrix.columns)):\n",
    "    for j in range(i):\n",
    "        if abs(correlation_matrix.iloc[i, j]) > x:\n",
    "            print(correlation_matrix.columns[i], correlation_matrix.columns[j], correlation_matrix.iloc[i, j])\n",
    "            columns_to_drop.append(correlation_matrix.columns[i])"
   ]
  },
  {
   "cell_type": "code",
   "execution_count": 46,
   "metadata": {},
   "outputs": [],
   "source": [
    "#drop columns with correlation > x\n",
    "model_df = model_df.drop(columns_to_drop, axis=1)"
   ]
  },
  {
   "cell_type": "code",
   "execution_count": 28,
   "metadata": {},
   "outputs": [],
   "source": [
    "#get min & max values and skewness of numerical columns and print as dataframe\n",
    "from scipy.stats import skew\n",
    "numerical_columns = model_df.select_dtypes(include=['int64', 'float64']).columns\n",
    "min_values = model_df[numerical_columns].min()\n",
    "max_values = model_df[numerical_columns].max()\n",
    "skewness = model_df[numerical_columns].skew()\n",
    "skewness = skewness.round(2)\n",
    "skewness = skewness.to_frame()\n",
    "skewness.columns = ['Skewness']\n",
    "\n",
    "val_range = min_values.to_frame()\n",
    "val_range.columns = ['Min']\n",
    "val_range['Max'] = max_values"
   ]
  },
  {
   "cell_type": "code",
   "execution_count": 29,
   "metadata": {},
   "outputs": [],
   "source": [
    "#get positive and negative skewness columns\n",
    "positive_skewness = skewness[skewness['Skewness']>0].index\n",
    "negative_skewness = skewness[skewness['Skewness']<0].index"
   ]
  },
  {
   "cell_type": "code",
   "execution_count": 30,
   "metadata": {},
   "outputs": [],
   "source": [
    "#get positive columns\n",
    "positive_columns = min_values[min_values>0].index\n",
    "\n",
    "#get negative columns\n",
    "negative_columns = max_values[max_values<0].index"
   ]
  },
  {
   "cell_type": "code",
   "execution_count": 31,
   "metadata": {},
   "outputs": [],
   "source": [
    "#transformation\n",
    "#..."
   ]
  },
  {
   "cell_type": "code",
   "execution_count": 47,
   "metadata": {},
   "outputs": [],
   "source": [
    "#scaling\n",
    "#scale data by dividing by L2 norm\n",
    "# from sklearn.preprocessing import Normalizer\n",
    "# normalizer = Normalizer()\n",
    "# model_df = normalizer.fit_transform(model_df)\n",
    "\n",
    "#scale data by dividing by Standard Deviation\n",
    "from sklearn.preprocessing import StandardScaler\n",
    "scaler = StandardScaler()\n",
    "model_df = scaler.fit_transform(model_df)"
   ]
  },
  {
   "cell_type": "markdown",
   "metadata": {},
   "source": [
    "### 3+4. Train, Test, Validation, Cross Validation + Models\n",
    "-  Consider which method to use to split the data and do the appropriate splits - if using CV still make a test set\n",
    "-  Use claasification algorithms to train a model - which and how many is up to you"
   ]
  },
  {
   "cell_type": "code",
   "execution_count": null,
   "metadata": {},
   "outputs": [],
   "source": [
    "model_df.head() "
   ]
  },
  {
   "cell_type": "code",
   "execution_count": 48,
   "metadata": {},
   "outputs": [],
   "source": [
    "#split data into train, test and validation sets\n",
    "from sklearn.neighbors import KNeighborsClassifier\n",
    "from sklearn.model_selection import cross_val_score\n",
    "from sklearn.model_selection import train_test_split\n",
    "\n",
    "X_trainVal, X_test, y_trainVal, y_test = train_test_split(model_df, target_column, random_state=69)\n",
    "X_train, X_val, y_train, y_val = train_test_split(X_trainVal, y_trainVal, random_state=69)"
   ]
  },
  {
   "cell_type": "code",
   "execution_count": 49,
   "metadata": {},
   "outputs": [
    {
     "name": "stdout",
     "output_type": "stream",
     "text": [
      "Best number of neighbors found: 11\n",
      "Best score on validation set: 0.8694463431305537\n",
      "Score on training/validation set: 0.8755980861244019\n",
      "Score on test set: 0.8621219887237315\n"
     ]
    }
   ],
   "source": [
    "best_score = 0\n",
    "for num_neighbors in range(1,15):\n",
    "    # Learn the model with a certain numnber of neighbors\n",
    "    knn = KNeighborsClassifier(n_neighbors=num_neighbors)\n",
    "    knn.fit(X_train, y_train)\n",
    "    \n",
    "    # Evaluate the model\n",
    "    score = knn.score(X_val, y_val)\n",
    "    \n",
    "    # If improvement, store score and parameter\n",
    "    if score>best_score:\n",
    "        best_score = score\n",
    "        best_num_neighbors = num_neighbors\n",
    "\n",
    "# Build a model on the combine training and valiation data\n",
    "knn = KNeighborsClassifier(n_neighbors=best_num_neighbors)\n",
    "knn.fit(X_trainVal, y_trainVal)\n",
    "\n",
    "print(\"Best number of neighbors found: {}\".format(best_num_neighbors))\n",
    "print(\"Best score on validation set: {}\".format(best_score))\n",
    "print(\"Score on training/validation set: {}\".format(knn.score(X_trainVal, y_trainVal)))\n",
    "print(\"Score on test set: {}\".format(knn.score(X_test, y_test)))"
   ]
  },
  {
   "cell_type": "code",
   "execution_count": 50,
   "metadata": {},
   "outputs": [
    {
     "name": "stdout",
     "output_type": "stream",
     "text": [
      "Number of neighbors: 1, score: 0.8256991248622334\n",
      "Number of neighbors: 2, score: 0.8111738816264861\n",
      "Number of neighbors: 3, score: 0.8482549066836\n",
      "Number of neighbors: 4, score: 0.8421041260665513\n",
      "Number of neighbors: 5, score: 0.8549201135708394\n",
      "Number of neighbors: 6, score: 0.8470590553767327\n",
      "Number of neighbors: 7, score: 0.854406125234477\n",
      "Number of neighbors: 8, score: 0.8515017480858642\n",
      "Number of neighbors: 9, score: 0.8556038742546\n",
      "Number of neighbors: 10, score: 0.8532105658834951\n",
      "Number of neighbors: 11, score: 0.8552627238024334\n",
      "Number of neighbors: 12, score: 0.8538944725451983\n",
      "Number of neighbors: 13, score: 0.8545786711627873\n",
      "Number of neighbors: 14, score: 0.8545786711627873\n",
      "Best number of neighbors found: 9\n",
      "Best average score: 0.8556038742546\n",
      "Score on training/validation set: 0.8790157211209843\n",
      "Score on test set: 0.8539210661199385\n"
     ]
    }
   ],
   "source": [
    "#selecting hyperparameters using cross-validation\n",
    "best_num_neighbors = 0\n",
    "best_score = 0\n",
    "for num_neighbors in range(1,15):\n",
    "    # Set a certain number of neighbors\n",
    "    knn = KNeighborsClassifier(n_neighbors=num_neighbors)\n",
    "    \n",
    "    # Perform cross validation\n",
    "    scores = cross_val_score(knn, X_trainVal, y_trainVal, cv=5)\n",
    "    \n",
    "    # Compute the mean score\n",
    "    score = scores.mean()\n",
    "    print(\"Number of neighbors: {}, score: {}\".format(num_neighbors, score))\n",
    "    \n",
    "    # If improvement, store score and parameter\n",
    "    if score > best_score:\n",
    "        best_score = score\n",
    "        best_num_neighbors = num_neighbors\n",
    "\n",
    "# Build a model on the combine training and valiation data\n",
    "knn = KNeighborsClassifier(n_neighbors=best_num_neighbors)\n",
    "knn.fit(X_trainVal, y_trainVal)\n",
    "\n",
    "print(\"Best number of neighbors found: {}\".format(best_num_neighbors))\n",
    "print(\"Best average score: {}\".format(best_score))\n",
    "print(\"Score on training/validation set: {}\".format(knn.score(X_trainVal, y_trainVal)))\n",
    "print(\"Score on test set: {}\".format(knn.score(X_test, y_test)))"
   ]
  },
  {
   "cell_type": "markdown",
   "metadata": {},
   "source": [
    "### 5. Evaluate\n",
    "-  Write three functions:\n",
    "     1. One that calculates accuracy, precision, recall, specificity, and f1-score\n",
    "     2. One that outputs the confusion matrix\n",
    "     3. One that diplays the precision-recall curve as well as the ROC-cruve\n",
    "-  Use your newly written functions to evaluate your models using the test data created in (3+4)"
   ]
  },
  {
   "cell_type": "code",
   "execution_count": 51,
   "metadata": {},
   "outputs": [
    {
     "name": "stdout",
     "output_type": "stream",
     "text": [
      "              precision    recall  f1-score   support\n",
      "\n",
      "           0       0.89      0.79      0.84       936\n",
      "           1       0.83      0.91      0.87      1015\n",
      "\n",
      "    accuracy                           0.85      1951\n",
      "   macro avg       0.86      0.85      0.85      1951\n",
      "weighted avg       0.86      0.85      0.85      1951\n",
      "\n"
     ]
    }
   ],
   "source": [
    "#calculate accuracy, precision, recall and f1-score\n",
    "from sklearn.metrics import classification_report\n",
    "y_pred = knn.predict(X_test)\n",
    "print(classification_report(y_test, y_pred))"
   ]
  },
  {
   "cell_type": "code",
   "execution_count": 53,
   "metadata": {},
   "outputs": [
    {
     "data": {
      "text/plain": [
       "Text(0.5, 1.0, 'Confusion Matrix')"
      ]
     },
     "execution_count": 53,
     "metadata": {},
     "output_type": "execute_result"
    },
    {
     "data": {
      "image/png": "[encoded data removed]",
      "text/plain": [
       "<Figure size 640x480 with 2 Axes>"
      ]
     },
     "metadata": {},
     "output_type": "display_data"
    }
   ],
   "source": [
    "#visualize confusion matrix\n",
    "from sklearn.metrics import confusion_matrix\n",
    "confusion_matrix(y_test, y_pred)\n",
    "\n",
    "#visualize confusion matrix as heatmap\n",
    "heatmap = sns.heatmap(confusion_matrix(y_test, y_pred), annot=True, fmt='d')\n",
    "heatmap.set_xlabel('Predicted')\n",
    "heatmap.set_ylabel('True')\n",
    "heatmap.set_title('Confusion Matrix')"
   ]
  },
  {
   "cell_type": "code",
   "execution_count": 55,
   "metadata": {},
   "outputs": [
    {
     "data": {
      "image/png": "[encoded data removed]",
      "text/plain": [
       "<Figure size 640x480 with 1 Axes>"
      ]
     },
     "metadata": {},
     "output_type": "display_data"
    }
   ],
   "source": [
    "#display precision-recall curve\n",
    "import matplotlib.pyplot as plt\n",
    "from sklearn.metrics import precision_recall_curve\n",
    "precision, recall, thresholds = precision_recall_curve(y_test, y_pred)\n",
    "plt.plot(precision, recall)\n",
    "plt.xlabel('Precision')\n",
    "plt.ylabel('Recall')\n",
    "plt.title('Precision-Recall Curve')\n",
    "plt.show()"
   ]
  },
  {
   "cell_type": "code",
   "execution_count": 56,
   "metadata": {},
   "outputs": [
    {
     "data": {
      "image/png": "[encoded data removed]",
      "text/plain": [
       "<Figure size 640x480 with 1 Axes>"
      ]
     },
     "metadata": {},
     "output_type": "display_data"
    }
   ],
   "source": [
    "#display ROC curve\n",
    "from sklearn.metrics import roc_curve\n",
    "fpr, tpr, thresholds = roc_curve(y_test, y_pred)\n",
    "plt.plot(fpr, tpr)\n",
    "plt.xlabel('False Positive Rate')\n",
    "plt.ylabel('True Positive Rate')\n",
    "plt.title('ROC Curve')\n",
    "plt.show()\n"
   ]
  },
  {
   "cell_type": "code",
   "execution_count": null,
   "metadata": {},
   "outputs": [],
   "source": []
  }
 ],
 "metadata": {
  "kernelspec": {
   "display_name": "Python 3",
   "language": "python",
   "name": "python3"
  },
  "language_info": {
   "codemirror_mode": {
    "name": "ipython",
    "version": 3
   },
   "file_extension": ".py",
   "mimetype": "text/x-python",
   "name": "python",
   "nbconvert_exporter": "python",
   "pygments_lexer": "ipython3",
   "version": "3.11.4"
  },
  "orig_nbformat": 4
 },
 "nbformat": 4,
 "nbformat_minor": 2
}
