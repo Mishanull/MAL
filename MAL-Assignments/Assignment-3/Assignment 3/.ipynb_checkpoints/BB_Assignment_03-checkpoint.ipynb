{
 "cells": [
  {
   "cell_type": "markdown",
   "metadata": {},
   "source": [
    "## 3. Regression: Optimization of Long-Term Correction of Wind Data Using Regression Models"
   ]
  },
  {
   "cell_type": "markdown",
   "metadata": {},
   "source": [
    "**Assignment Description**\n",
    "\n",
    "In this assignment, you will work with realistic data from the wind industry. Vestas, a leading global company in wind energy, is interested in optimizing their methods for generating long-term corrected (LTC) wind data, which are used for planning the locations of new wind farms.\n",
    " \n",
    "You will have access to two types of time series data:\n",
    " 1) Mast time series data that represent the wind conditions at a specific location based on measurements from a wind measuring mast. These data usually cover a period of 1-4 years.\n",
    " 2) Meso time series data that are based on weather measurement models and cover more than 20 years. While these data are less precise and don't exactly match the specific location, they provide a longer historical context.\n",
    "\n",
    "Note that the mast data for this project is significantly longer than \"typical\" mast data. This allows cutting the data into training and test sets (or training, validation and test sets). Each set should cover all four seasons.\n",
    "\n",
    "Your task is to develop a model using regression techniques that can generate LTC wind data. This LTC time series should be long, like the meso time series, but also give an accurate description of the wind conditions at the specific location.\n",
    "\n",
    "**Objectives and Purpose**\n",
    " \n",
    "The purpose of the assignment is to assess whether regression could be used instead of neural networks, which could potentially save time and money as it is generally quicker to perform a regression than to train a neural network. And the main objective is thus to develop a regression model that can generate LTC time series that are both accurate and cost-effective.\n",
    "\n",
    "**Requirements**\n",
    "1. **Data preprocessing:** You must handle large datasets and perform necessary data preprocessing tasks. This includes dealing with missing values, handling outliers, and scaling data appropriately for the chosen regression technique.\n",
    "\n",
    "    a. Consider the appropriate intervals for wind speeds and wind directions. No negative wind speeds are allowed, and wind directions should be in an appropriate interval (e.g. [0; 360[ degrees).\n",
    "\n",
    "    b. Select which ws / wd signals to use. Signals at higher altitude are generally better, but it is even more important to have proper coverage of all seasons.\n",
    "\n",
    "    c. Find the meso-signals closest in height to the mast-data-signal you are using. Or interpolate the values between 2 or more meso-signals to get the values at the exact mast-signal-height.\n",
    "\n",
    "    d. Convert the mast data from DK time to UTC time (corresponding to the time zone used in the meso data). Remember to account for summer-time in DK.\n",
    "    \n",
    "    e. Resample the mast dataset to have the same frequency as the meso data. The meso data has one record for each hour, the mast data has one record for each 10 min.\n",
    "\n",
    "        i. Note: You should not convert the ws / wd signals to vector-quantities and use those for the resampling. Resample the ws and wd signal individually instead. The turbines “yaw” to always point toward the incoming wind, so the interesting value is the wind speed and not the wind velocity.  \n",
    "        ii. Be careful when resampling the wind directions. You don’t want the average of 0 degrees and 359 degrees to become ~180 degrees :-)\n",
    "\n",
    "    f. Find the overlapping timestamps between the meso data and the resampled mast data. You only want to consider data in this overlapping time period in your training.\n",
    "\n",
    "2. **Exploratory analysis:** You must do an exploratory analysis of the data. This includes presenting the data in tables and graphs, study and describe features of interest, as well as correlation analysis. Wind speeds typically follow a Weibull-distributions. Try fitting a Weibull distribution to the mast data, the resampled mast data and the meso-data. \n",
    "3. **Model Development:** Use appropriate machine learning principles and methodologies, including model training and testing and perhaps validation, cross-validation, and leave-one-out. You should apply and interpret regression models effectively for this task.\n",
    "4. **Model Evaluation:** Evaluate the developed model using appropriate metrics such as Mean Squared Error (MSE), R-squared (R²), etc. The evaluation should give an indication of the usefulness of your model in predicting wind conditions accurately. \n",
    "In addition to calculating the above metric for your predicted time series, also consider comparing the distributions of the wind speeds in the predicted and the actual (resampled) mast data. That is, calculate the Weibull A- and k-parameters for both distributions, and find the error in these between your fit and the true data. \"Error-in-A\" and \"Error-in-k\" are the most used quantities to evaluate the long term correction process in the wind industry :-)\n",
    "5. **Documentation and Presentation:** Clearly document the steps, methodologies, and tools you used during the process. Present the results of your model in a clear and effective manner. This documentation should be comprehensive enough for someone to replicate your process and understand your results. Hand-in as one Jupyter Notebook.\n",
    "\n",
    "\n",
    "**Some additional comments**\n",
    "\n",
    "They (Vestas) have also tried running their own LTC algorithm on some of the data (they chose the 77m wind speed and wind direction signals from the Risø dataset), and this yielded good results. They assumed that the data was in Danish time, so they believe that is the case.\n",
    "\n",
    "As you can see, there is quite a focus on wind speeds (as they determine the amount of power produced). However, they know that their neural network operates by training on the different components of wind speed separately (meaning training one network on the x-component of the wind and another network on the y-component of the wind) and then combining them at the end. You may consider this method too. They are not sure if it yields better performance than training on wind speed and wind direction separately...but if time permits, give it a go.\n",
    "\n",
    "**About the data**\n",
    "\n",
    "The mast datasets are in netCDF format. It's quite easy to work with in Python (not sure if you've used it before?). In one of the folders, a test.py file is included that demonstrate how to load the dataset and access the most relevant mast signals.\n",
    "\n",
    "The mast data has a measurement frequency of 10 minutes, while the meso data has a frequency of 1 hour. Therefore, you will need to resample the mast data to a 1-hour frequency before you can use it (see requirement 1.e above). Vestas does the same with their data. As mentioned you should be careful when resampling the angles so that the average of 0 degrees (north) and 359 degrees doesn't end up being approximately 180 degrees.\n",
    "\n",
    "The data is publicly available. You can read more about it here:\n",
    "\n",
    "*Risø:*\n",
    "\n",
    "https://gitlab.windenergy.dtu.dk/fair-data/winddata-revamp/winddata-documentation/-/blob/kuhan-master-patch-91815/risoe_m.md\n",
    "\n",
    "Data: https://data.dtu.dk/articles/dataset/Wind_resource_data_from_the_tall_Ris_met_mast/14153204 (this is the \"DOI\"-link from the description)\n",
    "\n",
    "\n",
    "*Børglum:*\n",
    "\n",
    "https://gitlab.windenergy.dtu.dk/fair-data/winddata-revamp/winddata-documentation/-/blob/kuhan-master-patch-91815/borglum.md\n",
    "\n",
    "Data: https://data.dtu.dk/articles/dataset/Resource_data_from_the_Borglum_mast/14153231\n",
    "\n",
    "The two meso datasets come from Vestas' climate library, and the meso data is in UTC time. They don't think you need anything other than the \"wind speed\" (WSP) and \"wind direction\" (WDIR) signals. They believe it's most appropriate to either use the height closest to the mast height (for example, if you're using the wind speed signal ws125 and the wind direction signal wd125 from the Risø dataset, you should use WSP120 and WDIR120 from the meso dataset) or use multiple signals and interpolate to the desired height (125m) (see the requirements above).\n",
    "\n",
    "**Final comments**\n",
    "\n",
    "In a perfect world, you can do all of the above. The assignment is \"free\" in the sense that you should give the above a go and do your best. Remember, there is no right answer. This assignment is a real-world machine learning task and not a \"made-up\" school task. There are software engineers at Vestas working on exactly the same task (albeit with a different dataset, which they arent' allowed to share with us). But try to discuss the problem in your group and distribute the work among you. You can even collaborate with other groups or find inspiration in their approach.\n",
    "\n",
    "And remember. These portfolio assignments are not meant as \"learn stuff in class and apply to assignment\" - they are part of the learning process, and not simply a documentation of what you have learned. They should be seen as \"learning by doing\"-type assignments.\n",
    "\n",
    "In session 5, we will do a Q/A if you have any questions. But as mentioned, try to give it a go. "
   ]
  },
  {
   "cell_type": "code",
   "execution_count": null,
   "metadata": {},
   "outputs": [],
   "source": [
    "import pandas as pd\n",
    "import netCDF4 as nc\n",
    "import matplotlib.pyplot as plt"
   ]
  },
  {
   "cell_type": "code",
   "execution_count": null,
   "metadata": {},
   "outputs": [],
   "source": [
    "#Load Risoe-meso data\n",
    "risoe_meso_df = pd.read_csv('Data/Risoe/meso_Risoe.csv')\n",
    "\n",
    "#drop columns (keep the WS* and WDIR* columns)\n",
    "risoe_meso_df = risoe_meso_df.loc[:, (risoe_meso_df.columns == 'TIMESTAMP') | (risoe_meso_df.columns.str.contains('WS')) | (risoe_meso_df.columns.str.contains('WDIR'))]\n",
    "\n",
    "#cast timestamp column of type object to datetime\n",
    "risoe_meso_df['TIMESTAMP'] = pd.to_datetime(risoe_meso_df['TIMESTAMP'], format='%Y-%m-%d %H:%M:%S').dt.tz_localize('UTC')\n",
    "\n",
    "#set index to dt_time_utc\n",
    "risoe_meso_df.set_index('TIMESTAMP', inplace=True)"
   ]
  },
  {
   "cell_type": "code",
   "execution_count": null,
   "metadata": {},
   "outputs": [],
   "source": [
    "risoe_meso_df.head()\n",
    "# risoe_meso_df.describe()\n",
    "# risoe_meso_df.info()\n",
    "\n",
    "#print columns and number of their missing values if bigger than 0\n",
    "for col in risoe_meso_df.columns:\n",
    "    if risoe_meso_df[col].isnull().sum() > 0:\n",
    "        print(col, risoe_meso_df[col].isnull().sum())"
   ]
  },
  {
   "cell_type": "code",
   "execution_count": null,
   "metadata": {},
   "outputs": [],
   "source": [
    "#reduce columns to equals=\"TIMESTAMP\" and are like \"WSP*\" or \"WDIR*\"\n",
    "# risoe_meso_df = risoe_meso_df.loc[:, risoe_meso_df.columns.str.contains('TIMESTAMP|WSP|WDIR')]\n",
    "\n",
    "risoe_meso_df.head()"
   ]
  },
  {
   "cell_type": "code",
   "execution_count": null,
   "metadata": {},
   "outputs": [],
   "source": [
    "#Load Risoe mast data\n",
    "risoe_mast_ds = nc.Dataset('Data/Risoe/risoe_m_all.nc')\n",
    "#reduce columns to the time, ws and wd\n",
    "\n",
    "#initiate empty dataframe\n",
    "risoe_mast_df = pd.DataFrame()\n",
    "\n",
    "# Get the data from the netCDF file and put it into a pandas dataframe\n",
    "for var in risoe_mast_ds.variables:\n",
    "    if var != 'time':\n",
    "        risoe_mast_df[var] = risoe_mast_ds[var][:]\n",
    "    else:\n",
    "        risoe_mast_df[var] = nc.num2date(risoe_mast_ds[var][:], risoe_mast_ds[var].units)\n",
    "\n",
    "\n",
    "# reduce columns that equals \"time\" and are like \"ws*\" or \"wd*\"\n",
    "risoe_mast_df = risoe_mast_df.loc[:, (risoe_mast_df.columns == 'time') | (risoe_mast_df.columns.str.contains('ws')) | (risoe_mast_df.columns.str.contains('wd'))]\n",
    "# remove columns ending with \"qc\"\n",
    "risoe_mast_df = risoe_mast_df.loc[:, ~risoe_mast_df.columns.str.endswith('qc')]\n",
    "\n",
    "\n",
    "#cast time column of type object to datetime with timzone of copehagen timezone\n",
    "risoe_mast_df['dt_time'] = pd.to_datetime(risoe_mast_df['time'], format='%Y-%m-%d %H:%M:%S')\n",
    "#set dt_time to have copehagen timezone\n",
    "# risoe_mast_df['dt_time2'] = risoe_mast_df['dt_time'].dt.tz_localize('Europe/Copenhagen')\n",
    "risoe_mast_df['dt_time2'] = risoe_mast_df['dt_time'].dt.tz_localize('UTC')\n",
    "\n",
    "#convert dt_time to corresponding utc time\n",
    "risoe_mast_df['dt_time_utc'] = risoe_mast_df['dt_time2'].dt.tz_convert('UTC')\n",
    "\n",
    "risoe_mast_df[['time','dt_time','dt_time2', 'dt_time_utc']].head()\n",
    "#print one row of dt_time and dt_time_utc of each month to check if the time is correct\n",
    "for i in range(1, 13):\n",
    "    print(risoe_mast_df[['dt_time', 'dt_time_utc']].where(risoe_mast_df['dt_time'].dt.month == i).dropna().head(1))\n",
    "\n",
    "\n",
    "#set index to dt_time_utc\n",
    "risoe_mast_df.set_index('dt_time_utc', inplace=True)"
   ]
  },
  {
   "cell_type": "code",
   "execution_count": null,
   "metadata": {},
   "outputs": [],
   "source": [
    "# risoe_mast_df.head()\n",
    "# risoe_mast_df.describe()\n",
    "risoe_mast_df.info()\n",
    "\n",
    "#print columns and number of their missing values if bigger than 0\n",
    "for col in risoe_mast_df.columns:\n",
    "    if risoe_mast_df[col].isnull().sum() > 0:\n",
    "        print(col, risoe_mast_df[col].isnull().sum())"
   ]
  },
  {
   "cell_type": "code",
   "execution_count": null,
   "metadata": {},
   "outputs": [],
   "source": [
    "#check if ws-columns are positive values ->get min and max of the ws-like columns\n",
    "risoe_mast_df.loc[:, risoe_mast_df.columns.str.contains('ws')].agg(['min', 'max'])"
   ]
  },
  {
   "cell_type": "code",
   "execution_count": null,
   "metadata": {},
   "outputs": [],
   "source": [
    "#check if wd-columns are between 0 and 360 ->get min and max of the wd-like columns\n",
    "risoe_mast_df.loc[:, risoe_mast_df.columns.str.contains('wd')].agg(['min', 'max'])"
   ]
  },
  {
   "cell_type": "code",
   "execution_count": null,
   "metadata": {},
   "outputs": [],
   "source": [
    "#plot bar chart of percentage of missing values in risoe_mast_df\n",
    "#calculate percentage of missing values\n",
    "missing_values = risoe_mast_df.isnull().sum() / len(risoe_mast_df) * 100\n",
    "\n",
    "#plot bar chart wiht the percentage values written on top of the bars\n",
    "plt.figure(figsize=(10,5))\n",
    "plt.bar(missing_values.index, missing_values)\n",
    "plt.xticks(rotation=90)\n",
    "plt.ylabel('Percentage of missing values')\n",
    "plt.title('Percentage of missing values in Risoe mast data')\n",
    "for i, v in enumerate(missing_values):\n",
    "    plt.text(i-0.3, v+0.3, str(round(v, 2))+'%')\n",
    "plt.show()"
   ]
  },
  {
   "cell_type": "code",
   "execution_count": null,
   "metadata": {},
   "outputs": [],
   "source": [
    "#plot bar chart of percentage of missing values in risoe_mast_df\n",
    "\n",
    "#get percentages of missing values of risoe_mast_df where the time is in winter\n",
    "missing_values_winter = risoe_mast_df.loc[risoe_mast_df['dt_time'].dt.month.isin([12, 1, 2])].isnull().sum() / len(risoe_mast_df.loc[risoe_mast_df['dt_time'].dt.month.isin([12, 1, 2])]) * 100\n",
    "#get percentages of missing values of risoe_mast_df where the time is in spring\n",
    "missing_values_spring = risoe_mast_df.loc[risoe_mast_df['dt_time'].dt.month.isin([3, 4, 5])].isnull().sum() / len(risoe_mast_df.loc[risoe_mast_df['dt_time'].dt.month.isin([3, 4, 5])]) * 100\n",
    "#get percentages of missing values of risoe_mast_df where the time is in summer\n",
    "missing_values_summer = risoe_mast_df.loc[risoe_mast_df['dt_time'].dt.month.isin([6, 7, 8])].isnull().sum() / len(risoe_mast_df.loc[risoe_mast_df['dt_time'].dt.month.isin([6, 7, 8])]) * 100\n",
    "#get percentages of missing values of risoe_mast_df where the time is in autumn\n",
    "missing_values_autumn = risoe_mast_df.loc[risoe_mast_df['dt_time'].dt.month.isin([9, 10, 11])].isnull().sum() / len(risoe_mast_df.loc[risoe_mast_df['dt_time'].dt.month.isin([9, 10, 11])]) * 100\n",
    "\n",
    "#plot bar chart wiht the overall percentage values written on top of the bars\n",
    "plt.figure(figsize=(10,5))\n",
    "plt.bar(missing_values_winter.index, missing_values_winter, label='Winter')\n",
    "plt.bar(missing_values_spring.index, missing_values_spring, label='Spring')\n",
    "plt.bar(missing_values_summer.index, missing_values_summer, label='Summer')\n",
    "plt.bar(missing_values_autumn.index, missing_values_autumn, label='Autumn')\n",
    "plt.xticks(rotation=90)\n",
    "plt.ylabel('Percentage of missing values')\n",
    "plt.title('Percentage of missing values in Risoe mast data')\n",
    "plt.legend()\n",
    "plt.show()\n"
   ]
  },
  {
   "cell_type": "code",
   "execution_count": null,
   "metadata": {},
   "outputs": [],
   "source": [
    "risoe_mast_df.head()"
   ]
  },
  {
   "cell_type": "code",
   "execution_count": null,
   "metadata": {},
   "outputs": [],
   "source": [
    "#resample risoe_mast_df to hourly data and aggregate ws-columns to mean and wd-columns to median\n",
    "risoe_mast_resampled = risoe_mast_df.resample('H').agg({'ws77':'mean', 'ws125':'mean', 'wd77':'median', 'wd125':'median'})"
   ]
  },
  {
   "cell_type": "code",
   "execution_count": null,
   "metadata": {},
   "outputs": [],
   "source": [
    "#merge risoe_mast_resampled and risoe_meso_df on dt_time_utc and TIMESTAMP\n",
    "risoe_merged = pd.merge(risoe_mast_resampled, risoe_meso_df, left_on='dt_time_utc', right_on='TIMESTAMP', how='inner')"
   ]
  },
  {
   "cell_type": "code",
   "execution_count": null,
   "metadata": {},
   "outputs": [],
   "source": [
    "#ANALYSIS\n",
    "risoe_merged.head()"
   ]
  },
  {
   "cell_type": "code",
   "execution_count": null,
   "metadata": {},
   "outputs": [],
   "source": [
    "#split : 77<->80 and 125<->120"
   ]
  }
 ],
 "metadata": {
  "kernelspec": {
   "display_name": "Python 3",
   "language": "python",
   "name": "python3"
  },
  "language_info": {
   "codemirror_mode": {
    "name": "ipython",
    "version": 3
   },
   "file_extension": ".py",
   "mimetype": "text/x-python",
   "name": "python",
   "nbconvert_exporter": "python",
   "pygments_lexer": "ipython3",
   "version": "3.11.4"
  },
  "orig_nbformat": 4
 },
 "nbformat": 4,
 "nbformat_minor": 2
}
