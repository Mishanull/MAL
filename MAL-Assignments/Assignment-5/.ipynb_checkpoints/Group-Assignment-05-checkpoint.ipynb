{
 "cells": [
  {
   "cell_type": "markdown",
   "id": "5bc9be56",
   "metadata": {},
   "source": [
    "## Sentiment Analysis"
   ]
  },
  {
   "cell_type": "markdown",
   "id": "818b3b52",
   "metadata": {},
   "source": [
    "In this exercise we use the IMDb-dataset, which we will use to perform a sentiment analysis. The code below assumes that the data is placed in the same folder as this notebook. We see that the reviews are loaded as a pandas dataframe, and print the beginning of the first few reviews."
   ]
  },
  {
   "cell_type": "code",
   "execution_count": 1,
   "id": "67da3bc0",
   "metadata": {
    "execution": {
     "iopub.execute_input": "2023-11-06T12:16:30.160880Z",
     "iopub.status.busy": "2023-11-06T12:16:30.160730Z",
     "iopub.status.idle": "2023-11-06T12:16:30.520393Z",
     "shell.execute_reply": "2023-11-06T12:16:30.520068Z",
     "shell.execute_reply.started": "2023-11-06T12:16:30.160867Z"
    }
   },
   "outputs": [
    {
     "name": "stdout",
     "output_type": "stream",
     "text": [
      "<class 'pandas.core.frame.DataFrame'>\n",
      "                                                   0\n",
      "0  bromwell high is a cartoon comedy . it ran at ...\n",
      "1  story of a man who has unnatural feelings for ...\n",
      "2  homelessness  or houselessness as george carli...\n",
      "3  airport    starts as a brand new luxury    pla...\n",
      "4  brilliant over  acting by lesley ann warren . ...\n",
      "(25000, 1)\n"
     ]
    }
   ],
   "source": [
    "import numpy as np\n",
    "import pandas as pd\n",
    "\n",
    "reviews = pd.read_csv('reviews.txt', header=None)\n",
    "labels = pd.read_csv('labels.txt', header=None)\n",
    "Y = (labels=='positive').astype(np.int_)\n",
    "\n",
    "print(type(reviews))\n",
    "print(reviews.head())\n",
    "print(reviews.shape)"
   ]
  },
  {
   "cell_type": "code",
   "execution_count": 2,
   "id": "ea3b43c7",
   "metadata": {
    "execution": {
     "iopub.execute_input": "2023-11-06T12:16:30.521265Z",
     "iopub.status.busy": "2023-11-06T12:16:30.521136Z",
     "iopub.status.idle": "2023-11-06T12:16:30.524277Z",
     "shell.execute_reply": "2023-11-06T12:16:30.523872Z",
     "shell.execute_reply.started": "2023-11-06T12:16:30.521255Z"
    }
   },
   "outputs": [
    {
     "name": "stdout",
     "output_type": "stream",
     "text": [
      "          0\n",
      "0  positive\n",
      "1  negative\n",
      "2  positive\n",
      "3  negative\n",
      "4  positive\n",
      "(25000, 1)\n"
     ]
    }
   ],
   "source": [
    "print(labels.head())\n",
    "print(labels.shape)"
   ]
  },
  {
   "cell_type": "code",
   "execution_count": 4,
   "id": "331ec89a",
   "metadata": {
    "execution": {
     "iopub.execute_input": "2023-11-06T12:17:12.959278Z",
     "iopub.status.busy": "2023-11-06T12:17:12.959105Z",
     "iopub.status.idle": "2023-11-06T12:17:13.009627Z",
     "shell.execute_reply": "2023-11-06T12:17:13.009283Z",
     "shell.execute_reply.started": "2023-11-06T12:17:12.959264Z"
    }
   },
   "outputs": [
    {
     "name": "stdout",
     "output_type": "stream",
     "text": [
      "(16000, 1)\n",
      "(16000, 1)\n",
      "(5000, 1)\n",
      "(5000, 1)\n",
      "(4000, 1)\n",
      "(4000, 1)\n"
     ]
    }
   ],
   "source": [
    "#split reviews into training, testing and validation sets\n",
    "from sklearn.model_selection import train_test_split\n",
    "\n",
    "train_reviews, test_reviews, train_labels, test_labels = train_test_split(reviews, labels, test_size=0.2, random_state=1)\n",
    "train_reviews, val_reviews, train_labels, val_labels = train_test_split(train_reviews, train_labels, test_size=0.2, random_state=1)\n",
    "\n",
    "print(train_reviews.shape)\n",
    "print(train_labels.shape)\n",
    "print(test_reviews.shape)\n",
    "print(test_labels.shape)\n",
    "print(val_reviews.shape)\n",
    "print(val_labels.shape)\n"
   ]
  },
  {
   "cell_type": "code",
   "execution_count": 6,
   "id": "55b247f0",
   "metadata": {
    "execution": {
     "iopub.execute_input": "2023-11-06T12:17:15.832363Z",
     "iopub.status.busy": "2023-11-06T12:17:15.832185Z",
     "iopub.status.idle": "2023-11-06T12:17:17.047505Z",
     "shell.execute_reply": "2023-11-06T12:17:17.046902Z",
     "shell.execute_reply.started": "2023-11-06T12:17:15.832350Z"
    }
   },
   "outputs": [],
   "source": [
    "# use CountVectorizer to create a bag of words representation of the reviews (only use 10000 most frequently used words)\n",
    "from sklearn.feature_extraction.text import CountVectorizer\n",
    "#generate stop words list for english\n",
    "stop_words = [\"a\", \"the\", \"an\", \"is\"]\n",
    "\n",
    "vectorizer = CountVectorizer(max_features=10000, stop_words=stop_words)\n",
    "train_reviews_bow = vectorizer.fit_transform(train_reviews[0])"
   ]
  },
  {
   "cell_type": "markdown",
   "id": "d9820dde-8445-4984-9bab-dbc02e3c31a5",
   "metadata": {},
   "source": [
    "## I. Using SciKit's MLPClassifier\n",
    "- fiddling with the hyper parameters, we managed to get this up to 88% accuracy on the test data and 87% accuracy on the validation data\n",
    "- as an activation function on the hidden layer, we used the logistic sigmoid function f(x) = 1 / (1 + exp(-x))\n",
    "- the best solver for weight optimization was stochastic gradient descent\n",
    "- learning rate was set to be adaptive, which in the case of MLPClassifier, maintains a constant learning rate at 'learning_rate_init' while the training loss continues to decrease, but divides the current learning rate by 5 if two consecutive epochs do not decrease the training loss by at least 'tol' or fail to increase the validation score by at least 'tol' when 'early_stopping' is activated.\n",
    "- We will be using 25 units per hidden layer.\n"
   ]
  },
  {
   "cell_type": "code",
   "execution_count": 7,
   "id": "ba2cf83e",
   "metadata": {
    "execution": {
     "iopub.execute_input": "2023-11-06T12:17:17.298239Z",
     "iopub.status.busy": "2023-11-06T12:17:17.298020Z",
     "iopub.status.idle": "2023-11-06T12:19:27.775039Z",
     "shell.execute_reply": "2023-11-06T12:19:27.774542Z",
     "shell.execute_reply.started": "2023-11-06T12:17:17.298220Z"
    }
   },
   "outputs": [
    {
     "name": "stderr",
     "output_type": "stream",
     "text": [
      "/home/mishku_vertebrate/.local/lib/python3.11/site-packages/sklearn/neural_network/_multilayer_perceptron.py:691: ConvergenceWarning: Stochastic Optimizer: Maximum iterations (500) reached and the optimization hasn't converged yet.\n",
      "  warnings.warn(\n"
     ]
    },
    {
     "name": "stdout",
     "output_type": "stream",
     "text": [
      "Validation accuracy:  0.8765\n"
     ]
    }
   ],
   "source": [
    "#train a neural network with one hidden layer\n",
    "from sklearn.neural_network import MLPClassifier\n",
    "from sklearn.metrics import accuracy_score\n",
    "\n",
    "clf = MLPClassifier(hidden_layer_sizes=(25,), random_state=1,activation='logistic' ,max_iter=500, solver='sgd',learning_rate='adaptive')\n",
    "clf.fit(train_reviews_bow, train_labels.values.ravel())\n",
    "\n",
    "#predict the labels for the validation set\n",
    "val_reviews_bow = vectorizer.transform(val_reviews[0])\n",
    "val_predicted_labels = clf.predict(val_reviews_bow)\n",
    "\n",
    "#compute the accuracy of the predictions\n",
    "val_accuracy = accuracy_score(val_labels, val_predicted_labels)\n",
    "print(\"Validation accuracy: \", val_accuracy)\n"
   ]
  },
  {
   "cell_type": "markdown",
   "id": "1fd327a6",
   "metadata": {},
   "source": [
    "### Testing it on the test set"
   ]
  },
  {
   "cell_type": "code",
   "execution_count": 8,
   "id": "e39a0af3",
   "metadata": {
    "execution": {
     "iopub.execute_input": "2023-11-06T12:19:27.776159Z",
     "iopub.status.busy": "2023-11-06T12:19:27.775951Z",
     "iopub.status.idle": "2023-11-06T12:19:28.332969Z",
     "shell.execute_reply": "2023-11-06T12:19:28.332447Z",
     "shell.execute_reply.started": "2023-11-06T12:19:27.776141Z"
    }
   },
   "outputs": [
    {
     "name": "stdout",
     "output_type": "stream",
     "text": [
      "Test accuracy:  0.879\n"
     ]
    }
   ],
   "source": [
    "#test the model on the test set\n",
    "test_reviews_bow = vectorizer.transform(test_reviews[0])\n",
    "test_predicted_labels = clf.predict(test_reviews_bow)\n",
    "\n",
    "#compute the accuracy of the predictions\n",
    "test_accuracy = accuracy_score(test_labels, test_predicted_labels)\n",
    "print(\"Test accuracy: \", test_accuracy)"
   ]
  },
  {
   "cell_type": "markdown",
   "id": "8be07bb9-69ff-46b6-949e-2d146a8aed92",
   "metadata": {},
   "source": [
    "### Testing it on new data, both positive and negative sentences"
   ]
  },
  {
   "cell_type": "code",
   "execution_count": 9,
   "id": "a1ef2970",
   "metadata": {
    "execution": {
     "iopub.execute_input": "2023-11-06T12:19:28.333918Z",
     "iopub.status.busy": "2023-11-06T12:19:28.333741Z",
     "iopub.status.idle": "2023-11-06T12:19:28.338084Z",
     "shell.execute_reply": "2023-11-06T12:19:28.337621Z",
     "shell.execute_reply.started": "2023-11-06T12:19:28.333901Z"
    }
   },
   "outputs": [
    {
     "name": "stdout",
     "output_type": "stream",
     "text": [
      "Predicted label for new review:  negative\n"
     ]
    }
   ],
   "source": [
    "new_review = \"This movie was atrocious.\"\n",
    "new_review_bow = vectorizer.transform([new_review])\n",
    "new_review_predicted_label = clf.predict(new_review_bow)[0]\n",
    "print(\"Predicted label for new review: \", new_review_predicted_label)"
   ]
  },
  {
   "cell_type": "code",
   "execution_count": 10,
   "id": "c6caeeee-febf-4da0-aa50-4e46e68eaf41",
   "metadata": {
    "execution": {
     "iopub.execute_input": "2023-11-06T12:19:28.339607Z",
     "iopub.status.busy": "2023-11-06T12:19:28.339438Z",
     "iopub.status.idle": "2023-11-06T12:19:28.350737Z",
     "shell.execute_reply": "2023-11-06T12:19:28.350218Z",
     "shell.execute_reply.started": "2023-11-06T12:19:28.339592Z"
    }
   },
   "outputs": [
    {
     "name": "stdout",
     "output_type": "stream",
     "text": [
      "Predicted label for new review:  positive\n"
     ]
    }
   ],
   "source": [
    "new_review = \"A pleasant surprise to see such an ensemble cast in an indie debut film.\"\n",
    "new_review_bow = vectorizer.transform([new_review])\n",
    "new_review_predicted_label = clf.predict(new_review_bow)[0]\n",
    "print(\"Predicted label for new review: \", new_review_predicted_label)"
   ]
  },
  {
   "cell_type": "code",
   "execution_count": 11,
   "id": "8016de57-23ed-4eb9-aa41-3915698ad42a",
   "metadata": {
    "execution": {
     "iopub.execute_input": "2023-11-06T12:19:28.351708Z",
     "iopub.status.busy": "2023-11-06T12:19:28.351508Z",
     "iopub.status.idle": "2023-11-06T12:19:28.355899Z",
     "shell.execute_reply": "2023-11-06T12:19:28.355456Z",
     "shell.execute_reply.started": "2023-11-06T12:19:28.351691Z"
    }
   },
   "outputs": [
    {
     "name": "stdout",
     "output_type": "stream",
     "text": [
      "Predicted label for new review:  negative\n"
     ]
    }
   ],
   "source": [
    "new_review = \"I would like to declare my contempt for these kinds of movies. They are lacking in many aspects.\"\n",
    "new_review_bow = vectorizer.transform([new_review])\n",
    "new_review_predicted_label = clf.predict(new_review_bow)[0]\n",
    "print(\"Predicted label for new review: \", new_review_predicted_label)"
   ]
  },
  {
   "cell_type": "code",
   "execution_count": 12,
   "id": "f3bcc924-7839-4eb5-a376-87e9398060e2",
   "metadata": {
    "execution": {
     "iopub.execute_input": "2023-11-06T12:19:28.356893Z",
     "iopub.status.busy": "2023-11-06T12:19:28.356608Z",
     "iopub.status.idle": "2023-11-06T12:19:28.360875Z",
     "shell.execute_reply": "2023-11-06T12:19:28.360362Z",
     "shell.execute_reply.started": "2023-11-06T12:19:28.356876Z"
    }
   },
   "outputs": [
    {
     "name": "stdout",
     "output_type": "stream",
     "text": [
      "Predicted label for new review:  negative\n"
     ]
    }
   ],
   "source": [
    "new_review = \"Style over substance, no redeeming qualities for this show.\"\n",
    "new_review_bow = vectorizer.transform([new_review])\n",
    "new_review_predicted_label = clf.predict(new_review_bow)[0]\n",
    "print(\"Predicted label for new review: \", new_review_predicted_label)"
   ]
  },
  {
   "cell_type": "code",
   "execution_count": 13,
   "id": "1fa1cb25-9512-4035-bfd7-3f11081b1354",
   "metadata": {
    "execution": {
     "iopub.execute_input": "2023-11-06T12:19:28.361697Z",
     "iopub.status.busy": "2023-11-06T12:19:28.361504Z",
     "iopub.status.idle": "2023-11-06T12:19:28.370814Z",
     "shell.execute_reply": "2023-11-06T12:19:28.370017Z",
     "shell.execute_reply.started": "2023-11-06T12:19:28.361679Z"
    }
   },
   "outputs": [
    {
     "name": "stdout",
     "output_type": "stream",
     "text": [
      "Predicted label for new review:  positive\n"
     ]
    }
   ],
   "source": [
    "new_review = \"This debut delights its audience with some top of the line acting, for such great, coming of age actors.\"\n",
    "new_review_bow = vectorizer.transform([new_review])\n",
    "new_review_predicted_label = clf.predict(new_review_bow)[0]\n",
    "print(\"Predicted label for new review: \", new_review_predicted_label)"
   ]
  },
  {
   "cell_type": "markdown",
   "id": "c2aba38a-657a-4b2f-a3fa-a0f71b5485b9",
   "metadata": {},
   "source": [
    "## II. Using Keras from Tensorflow\n",
    "- we fiddled around with multiple activation functions and multiple values for hidden units per layer.\n",
    "- it was discovered that the output layer is recommended to have a sigmoid activation function and one hidden unit, since it has to deal with probabilities and binary classification\n",
    "- went through multiple weight optimizers, Adamax yielded the best results with a learning rate of 0.002\n",
    "- used EarlyStopping with a patience of 10, and ran it for 50 epochs at first, but the validation loss went up way before those epochs were done.\n",
    "- ultimately, we chose a larger batch size of 64, a patience of 6 and only 12 epochs.\n",
    "- for the input layer, 512 hidden units and a reLU activation function yielded the marginally best results.\n",
    "- The best accuracy that we got was around 0.88 for the test and validation sets, before the computed validation loss diverged grossly from the training loss."
   ]
  },
  {
   "cell_type": "code",
   "execution_count": 14,
   "id": "8792dc73-ceb6-4032-9b68-2e52ebfdc8d1",
   "metadata": {
    "execution": {
     "iopub.execute_input": "2023-11-06T12:19:28.371763Z",
     "iopub.status.busy": "2023-11-06T12:19:28.371597Z",
     "iopub.status.idle": "2023-11-06T12:19:31.319584Z",
     "shell.execute_reply": "2023-11-06T12:19:31.318872Z",
     "shell.execute_reply.started": "2023-11-06T12:19:28.371747Z"
    }
   },
   "outputs": [],
   "source": [
    "from sklearn.model_selection import train_test_split\n",
    "labels['target'] = labels[0].factorize()[0] \n",
    "X = vectorizer.fit_transform(reviews[0]).toarray()\n",
    "y = np.array(labels['target'])\n",
    "X_, X_test, y_, y_test = train_test_split(X, y, test_size=0.2, random_state=1)\n",
    "X_train, X_val, y_train, y_val = train_test_split(X_, y_, test_size=0.2, random_state=1)"
   ]
  },
  {
   "cell_type": "code",
   "execution_count": 59,
   "id": "5a7f058b-cccd-494b-86f9-e43f9cb5f9b0",
   "metadata": {
    "execution": {
     "iopub.execute_input": "2023-11-06T12:42:13.551914Z",
     "iopub.status.busy": "2023-11-06T12:42:13.551640Z",
     "iopub.status.idle": "2023-11-06T12:43:29.938181Z",
     "shell.execute_reply": "2023-11-06T12:43:29.937713Z",
     "shell.execute_reply.started": "2023-11-06T12:42:13.551896Z"
    },
    "scrolled": true
   },
   "outputs": [
    {
     "name": "stdout",
     "output_type": "stream",
     "text": [
      "Epoch 1/12\n",
      "250/250 [==============================] - 7s 28ms/step - loss: 0.3571 - accuracy: 0.8574 - val_loss: 0.2996 - val_accuracy: 0.8835\n",
      "Epoch 2/12\n",
      "250/250 [==============================] - 7s 28ms/step - loss: 0.1779 - accuracy: 0.9385 - val_loss: 0.3094 - val_accuracy: 0.8810\n",
      "Epoch 3/12\n",
      "250/250 [==============================] - 7s 28ms/step - loss: 0.1078 - accuracy: 0.9674 - val_loss: 0.3232 - val_accuracy: 0.8802\n",
      "Epoch 4/12\n",
      "250/250 [==============================] - 7s 27ms/step - loss: 0.0610 - accuracy: 0.9861 - val_loss: 0.3515 - val_accuracy: 0.8842\n",
      "Epoch 5/12\n",
      "250/250 [==============================] - 7s 27ms/step - loss: 0.0332 - accuracy: 0.9942 - val_loss: 0.3968 - val_accuracy: 0.8823\n",
      "Epoch 6/12\n",
      "250/250 [==============================] - 7s 28ms/step - loss: 0.0162 - accuracy: 0.9985 - val_loss: 0.4361 - val_accuracy: 0.8795\n",
      "Epoch 7/12\n",
      "250/250 [==============================] - 7s 28ms/step - loss: 0.0085 - accuracy: 0.9996 - val_loss: 0.4640 - val_accuracy: 0.8813\n",
      "Epoch 8/12\n",
      "250/250 [==============================] - 7s 27ms/step - loss: 0.0048 - accuracy: 0.9998 - val_loss: 0.5015 - val_accuracy: 0.8802\n",
      "Epoch 9/12\n",
      "250/250 [==============================] - 7s 28ms/step - loss: 0.0029 - accuracy: 0.9999 - val_loss: 0.5401 - val_accuracy: 0.8835\n",
      "Epoch 10/12\n",
      "250/250 [==============================] - 7s 28ms/step - loss: 0.0019 - accuracy: 1.0000 - val_loss: 0.5581 - val_accuracy: 0.8802\n",
      "Epoch 11/12\n",
      "250/250 [==============================] - 7s 27ms/step - loss: 0.0012 - accuracy: 1.0000 - val_loss: 0.5853 - val_accuracy: 0.8815\n"
     ]
    }
   ],
   "source": [
    "from tensorflow import keras\n",
    "import numpy as np\n",
    "import tensorflow as tf\n",
    "model = keras.Sequential([\n",
    "    keras.layers.Dense(512, activation='relu', input_dim=X_train.shape[1]),\n",
    "    keras.layers.Dense(1, activation='sigmoid')\n",
    "])\n",
    "\n",
    "model.compile(optimizer=keras.optimizers.Adamax(learning_rate=0.002),\n",
    "              loss='binary_crossentropy',\n",
    "              metrics=['accuracy'])\n",
    "\n",
    "es = tf.keras.callbacks.EarlyStopping(patience=6, restore_best_weights=True)\n",
    "history = model.fit(X_train, y_train, epochs=12, batch_size=64, validation_data=(X_val, y_val), callbacks=[es])"
   ]
  },
  {
   "cell_type": "markdown",
   "id": "2befe001-012c-4e24-ac00-9198602bd818",
   "metadata": {},
   "source": [
    "## Plot of the learning curve, loss in each epoch, training and validation sets"
   ]
  },
  {
   "cell_type": "code",
   "execution_count": 47,
   "id": "06b12a33-6771-41da-b155-307537d28fe4",
   "metadata": {
    "execution": {
     "iopub.execute_input": "2023-11-06T12:31:41.800255Z",
     "iopub.status.busy": "2023-11-06T12:31:41.800149Z",
     "iopub.status.idle": "2023-11-06T12:31:41.903748Z",
     "shell.execute_reply": "2023-11-06T12:31:41.903219Z",
     "shell.execute_reply.started": "2023-11-06T12:31:41.800245Z"
    }
   },
   "outputs": [
    {
     "data": {
      "image/png": "[encoded data removed]",
      "text/plain": [
       "<Figure size 640x480 with 1 Axes>"
      ]
     },
     "metadata": {},
     "output_type": "display_data"
    }
   ],
   "source": [
    "import matplotlib.pyplot as plt\n",
    "plt.figure()\n",
    "plt.title(\"Learning curves\")\n",
    "plt.xlabel(\"Epoch\")\n",
    "plt.ylabel(\"Cross entropy loss\")\n",
    "plt.plot(history.history['loss'], label = 'training')\n",
    "plt.plot(history.history['val_loss'], label = 'validation')\n",
    "plt.legend()\n",
    "plt.show()"
   ]
  },
  {
   "cell_type": "markdown",
   "id": "9fa9f6c7-3a41-40e1-84b2-b806822966a3",
   "metadata": {},
   "source": [
    "## Test accuracy"
   ]
  },
  {
   "cell_type": "code",
   "execution_count": 48,
   "id": "537e1648-2dde-40ca-9e49-7db5a51d296b",
   "metadata": {
    "execution": {
     "iopub.execute_input": "2023-11-06T12:31:43.477617Z",
     "iopub.status.busy": "2023-11-06T12:31:43.477501Z",
     "iopub.status.idle": "2023-11-06T12:31:43.999349Z",
     "shell.execute_reply": "2023-11-06T12:31:43.998900Z",
     "shell.execute_reply.started": "2023-11-06T12:31:43.477606Z"
    }
   },
   "outputs": [
    {
     "name": "stdout",
     "output_type": "stream",
     "text": [
      "157/157 [==============================] - 0s 2ms/step\n",
      "Test accuracy:  0.8882\n"
     ]
    }
   ],
   "source": [
    "y_pred = model.predict(X_test)\n",
    "\n",
    "# converting the predicted values to binary values based on a threshold (e.g., 0.5 for binary classification)\n",
    "y_pred_binary = (y_pred > 0.5).astype(int)\n",
    "test_accuracy = accuracy_score(y_test, y_pred_binary)\n",
    "print(\"Test accuracy: \", test_accuracy)"
   ]
  },
  {
   "cell_type": "markdown",
   "id": "618da856-d0d8-487a-a2e4-e92741b3d976",
   "metadata": {},
   "source": [
    "## Predictions on new data"
   ]
  },
  {
   "cell_type": "code",
   "execution_count": 49,
   "id": "53b1a37f-90b3-4271-9de8-d3b82a5ceb10",
   "metadata": {
    "execution": {
     "iopub.execute_input": "2023-11-06T12:31:45.614127Z",
     "iopub.status.busy": "2023-11-06T12:31:45.613992Z",
     "iopub.status.idle": "2023-11-06T12:31:45.617280Z",
     "shell.execute_reply": "2023-11-06T12:31:45.616908Z",
     "shell.execute_reply.started": "2023-11-06T12:31:45.614115Z"
    }
   },
   "outputs": [],
   "source": [
    "def predict_sentiment(review_text, vectorizer, model):\n",
    "    new_review_bow = vectorizer.transform([review_text]).toarray()\n",
    "    new_review_predicted_label = model.predict(new_review_bow)\n",
    "    y_pred_binary = (new_review_predicted_label > 0.5).astype(int)\n",
    "\n",
    "    # Map binary prediction to 'positive' or 'negative'\n",
    "    if y_pred_binary == 0:\n",
    "        predicted_label = 'positive'\n",
    "    else:\n",
    "        predicted_label = 'negative'\n",
    "\n",
    "    return predicted_label"
   ]
  },
  {
   "cell_type": "code",
   "execution_count": 51,
   "id": "8eba48e3-a9bd-4fae-826b-760443815807",
   "metadata": {
    "execution": {
     "iopub.execute_input": "2023-11-06T12:31:46.444924Z",
     "iopub.status.busy": "2023-11-06T12:31:46.444755Z",
     "iopub.status.idle": "2023-11-06T12:31:46.483822Z",
     "shell.execute_reply": "2023-11-06T12:31:46.483422Z",
     "shell.execute_reply.started": "2023-11-06T12:31:46.444912Z"
    }
   },
   "outputs": [
    {
     "name": "stdout",
     "output_type": "stream",
     "text": [
      "1/1 [==============================] - 0s 13ms/step\n"
     ]
    },
    {
     "data": {
      "text/plain": [
       "'negative'"
      ]
     },
     "execution_count": 51,
     "metadata": {},
     "output_type": "execute_result"
    }
   ],
   "source": [
    "new_review = \"I would like to declare my contempt for these kinds of movies. They are lacking in many aspects.\"\n",
    "predict_sentiment(new_review, vectorizer, model)"
   ]
  },
  {
   "cell_type": "code",
   "execution_count": 53,
   "id": "49004f15-8c19-4770-bea1-3faef7fe8a2b",
   "metadata": {
    "execution": {
     "iopub.execute_input": "2023-11-06T12:31:47.938077Z",
     "iopub.status.busy": "2023-11-06T12:31:47.937903Z",
     "iopub.status.idle": "2023-11-06T12:31:47.984771Z",
     "shell.execute_reply": "2023-11-06T12:31:47.984327Z",
     "shell.execute_reply.started": "2023-11-06T12:31:47.938062Z"
    }
   },
   "outputs": [
    {
     "name": "stdout",
     "output_type": "stream",
     "text": [
      "1/1 [==============================] - 0s 13ms/step\n"
     ]
    },
    {
     "data": {
      "text/plain": [
       "'positive'"
      ]
     },
     "execution_count": 53,
     "metadata": {},
     "output_type": "execute_result"
    }
   ],
   "source": [
    "new_review = \"Very interesting movie, it got me into my new hobby of spanking my monkey.\"\n",
    "predict_sentiment(new_review, vectorizer, model)"
   ]
  },
  {
   "cell_type": "code",
   "execution_count": 55,
   "id": "ddfe58a6-4890-4bb1-abca-2d73b8af1847",
   "metadata": {
    "execution": {
     "iopub.execute_input": "2023-11-06T12:31:49.264492Z",
     "iopub.status.busy": "2023-11-06T12:31:49.264180Z",
     "iopub.status.idle": "2023-11-06T12:31:49.304180Z",
     "shell.execute_reply": "2023-11-06T12:31:49.303676Z",
     "shell.execute_reply.started": "2023-11-06T12:31:49.264466Z"
    }
   },
   "outputs": [
    {
     "name": "stdout",
     "output_type": "stream",
     "text": [
      "1/1 [==============================] - 0s 14ms/step\n"
     ]
    },
    {
     "data": {
      "text/plain": [
       "'negative'"
      ]
     },
     "execution_count": 55,
     "metadata": {},
     "output_type": "execute_result"
    }
   ],
   "source": [
    "new_review = \"Really disturbing, very bad, kind of appaling experience.\"\n",
    "predict_sentiment(new_review, vectorizer, model)"
   ]
  },
  {
   "cell_type": "code",
   "execution_count": 56,
   "id": "52a531f5-b591-4ea3-91d9-8e547edfd25a",
   "metadata": {
    "execution": {
     "iopub.execute_input": "2023-11-06T12:31:49.822035Z",
     "iopub.status.busy": "2023-11-06T12:31:49.821814Z",
     "iopub.status.idle": "2023-11-06T12:31:49.862314Z",
     "shell.execute_reply": "2023-11-06T12:31:49.861976Z",
     "shell.execute_reply.started": "2023-11-06T12:31:49.822016Z"
    }
   },
   "outputs": [
    {
     "name": "stdout",
     "output_type": "stream",
     "text": [
      "1/1 [==============================] - 0s 14ms/step\n"
     ]
    },
    {
     "data": {
      "text/plain": [
       "'negative'"
      ]
     },
     "execution_count": 56,
     "metadata": {},
     "output_type": "execute_result"
    }
   ],
   "source": [
    "new_review = \" No creativity whatsoever, this movie sucks.\"\n",
    "predict_sentiment(new_review, vectorizer, model)"
   ]
  },
  {
   "cell_type": "code",
   "execution_count": null,
   "id": "4dab2fa8-e570-419f-9bd0-fc9157e673f3",
   "metadata": {},
   "outputs": [],
   "source": []
  }
 ],
 "metadata": {
  "kernelspec": {
   "display_name": "Python 3 (ipykernel)",
   "language": "python",
   "name": "python3"
  },
  "language_info": {
   "codemirror_mode": {
    "name": "ipython",
    "version": 3
   },
   "file_extension": ".py",
   "mimetype": "text/x-python",
   "name": "python",
   "nbconvert_exporter": "python",
   "pygments_lexer": "ipython3",
   "version": "3.11.6"
  }
 },
 "nbformat": 4,
 "nbformat_minor": 5
}
