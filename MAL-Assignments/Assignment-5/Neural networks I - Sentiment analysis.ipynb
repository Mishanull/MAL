{
 "cells": [
  {
   "cell_type": "markdown",
   "id": "5bc9be56",
   "metadata": {},
   "source": [
    "## Sentiment Analysis"
   ]
  },
  {
   "cell_type": "markdown",
   "id": "818b3b52",
   "metadata": {},
   "source": [
    "In this exercise we use the IMDb-dataset, which we will use to perform a sentiment analysis. The code below assumes that the data is placed in the same folder as this notebook. We see that the reviews are loaded as a pandas dataframe, and print the beginning of the first few reviews."
   ]
  },
  {
   "cell_type": "code",
   "execution_count": 1,
   "id": "67da3bc0",
   "metadata": {
    "execution": {
     "iopub.execute_input": "2023-11-05T20:39:06.055297Z",
     "iopub.status.busy": "2023-11-05T20:39:06.055162Z",
     "iopub.status.idle": "2023-11-05T20:39:06.416252Z",
     "shell.execute_reply": "2023-11-05T20:39:06.415923Z",
     "shell.execute_reply.started": "2023-11-05T20:39:06.055285Z"
    }
   },
   "outputs": [
    {
     "name": "stdout",
     "output_type": "stream",
     "text": [
      "<class 'pandas.core.frame.DataFrame'>\n",
      "                                                   0\n",
      "0  bromwell high is a cartoon comedy . it ran at ...\n",
      "1  story of a man who has unnatural feelings for ...\n",
      "2  homelessness  or houselessness as george carli...\n",
      "3  airport    starts as a brand new luxury    pla...\n",
      "4  brilliant over  acting by lesley ann warren . ...\n",
      "(25000, 1)\n"
     ]
    }
   ],
   "source": [
    "import numpy as np\n",
    "import pandas as pd\n",
    "\n",
    "reviews = pd.read_csv('reviews.txt', header=None)\n",
    "labels = pd.read_csv('labels.txt', header=None)\n",
    "Y = (labels=='positive').astype(np.int_)\n",
    "\n",
    "print(type(reviews))\n",
    "print(reviews.head())\n",
    "print(reviews.shape)"
   ]
  },
  {
   "cell_type": "code",
   "execution_count": 2,
   "id": "ea3b43c7",
   "metadata": {
    "execution": {
     "iopub.execute_input": "2023-11-05T20:39:06.417535Z",
     "iopub.status.busy": "2023-11-05T20:39:06.417352Z",
     "iopub.status.idle": "2023-11-05T20:39:06.420738Z",
     "shell.execute_reply": "2023-11-05T20:39:06.420275Z",
     "shell.execute_reply.started": "2023-11-05T20:39:06.417517Z"
    }
   },
   "outputs": [
    {
     "name": "stdout",
     "output_type": "stream",
     "text": [
      "          0\n",
      "0  positive\n",
      "1  negative\n",
      "2  positive\n",
      "3  negative\n",
      "4  positive\n",
      "(25000, 1)\n"
     ]
    }
   ],
   "source": [
    "print(labels.head())\n",
    "print(labels.shape)"
   ]
  },
  {
   "cell_type": "code",
   "execution_count": 98,
   "id": "55b247f0",
   "metadata": {
    "execution": {
     "iopub.execute_input": "2023-11-05T22:37:51.890530Z",
     "iopub.status.busy": "2023-11-05T22:37:51.890362Z",
     "iopub.status.idle": "2023-11-05T22:37:53.094561Z",
     "shell.execute_reply": "2023-11-05T22:37:53.094040Z",
     "shell.execute_reply.started": "2023-11-05T22:37:51.890515Z"
    }
   },
   "outputs": [],
   "source": [
    "# use CountVectorizer to create a bag of words representation of the reviews (only use 10000 most frequently used words)\n",
    "from sklearn.feature_extraction.text import CountVectorizer\n",
    "#generate stop words list for english\n",
    "stop_words = [\"a\", \"the\", \"an\", \"is\"]\n",
    "\n",
    "vectorizer = CountVectorizer(max_features=10000, stop_words=stop_words)\n",
    "train_reviews_bow = vectorizer.fit_transform(train_reviews[0])"
   ]
  },
  {
   "cell_type": "code",
   "execution_count": 3,
   "id": "331ec89a",
   "metadata": {
    "execution": {
     "iopub.execute_input": "2023-11-05T20:39:06.421512Z",
     "iopub.status.busy": "2023-11-05T20:39:06.421350Z",
     "iopub.status.idle": "2023-11-05T20:39:06.693067Z",
     "shell.execute_reply": "2023-11-05T20:39:06.692069Z",
     "shell.execute_reply.started": "2023-11-05T20:39:06.421497Z"
    }
   },
   "outputs": [
    {
     "name": "stdout",
     "output_type": "stream",
     "text": [
      "(16000, 1)\n",
      "(16000, 1)\n",
      "(5000, 1)\n",
      "(5000, 1)\n",
      "(4000, 1)\n",
      "(4000, 1)\n"
     ]
    }
   ],
   "source": [
    "#split reviews into training, testing and validation sets\n",
    "from sklearn.model_selection import train_test_split\n",
    "\n",
    "train_reviews, test_reviews, train_labels, test_labels = train_test_split(reviews, labels, test_size=0.2, random_state=1)\n",
    "train_reviews, val_reviews, train_labels, val_labels = train_test_split(train_reviews, train_labels, test_size=0.2, random_state=1)\n",
    "\n",
    "print(train_reviews.shape)\n",
    "print(train_labels.shape)\n",
    "print(test_reviews.shape)\n",
    "print(test_labels.shape)\n",
    "print(val_reviews.shape)\n",
    "print(val_labels.shape)\n"
   ]
  },
  {
   "cell_type": "markdown",
   "id": "d9820dde-8445-4984-9bab-dbc02e3c31a5",
   "metadata": {},
   "source": [
    "## I. Using SciKit's MLPClassifier\n",
    "- fiddling with the hyper parameters, we managed to get this up to 88% accuracy on the test data and 87% accuracy on the validation data\n",
    "- as an activation function on the hidden layer, we used the logistic sigmoid function f(x) = 1 / (1 + exp(-x))\n",
    "- the best solver for weight optimization was stochastic gradient descent\n",
    "- learning rate was set to be adaptive, which in the case of MLPClassifier, maintains a constant learning rate at 'learning_rate_init' while the training loss continues to decrease, but divides the current learning rate by 5 if two consecutive epochs do not decrease the training loss by at least 'tol' or fail to increase the validation score by at least 'tol' when 'early_stopping' is activated.\n"
   ]
  },
  {
   "cell_type": "code",
   "execution_count": 6,
   "id": "ba2cf83e",
   "metadata": {
    "execution": {
     "iopub.execute_input": "2023-11-05T20:39:07.942578Z",
     "iopub.status.busy": "2023-11-05T20:39:07.942452Z",
     "iopub.status.idle": "2023-11-05T20:41:45.369534Z",
     "shell.execute_reply": "2023-11-05T20:41:45.368439Z",
     "shell.execute_reply.started": "2023-11-05T20:39:07.942567Z"
    }
   },
   "outputs": [
    {
     "name": "stderr",
     "output_type": "stream",
     "text": [
      "/home/mishku_vertebrate/.local/lib/python3.11/site-packages/sklearn/neural_network/_multilayer_perceptron.py:691: ConvergenceWarning: Stochastic Optimizer: Maximum iterations (500) reached and the optimization hasn't converged yet.\n",
      "  warnings.warn(\n"
     ]
    },
    {
     "name": "stdout",
     "output_type": "stream",
     "text": [
      "Validation accuracy:  0.876\n"
     ]
    }
   ],
   "source": [
    "#train a neural network with one hidden layer\n",
    "from sklearn.neural_network import MLPClassifier\n",
    "from sklearn.metrics import accuracy_score\n",
    "\n",
    "clf = MLPClassifier(hidden_layer_sizes=(25,), random_state=1,activation='logistic' ,max_iter=500, solver='sgd',learning_rate='adaptive')\n",
    "clf.fit(train_reviews_bow, train_labels.values.ravel())\n",
    "\n",
    "#predict the labels for the validation set\n",
    "val_reviews_bow = vectorizer.transform(val_reviews[0])\n",
    "val_predicted_labels = clf.predict(val_reviews_bow)\n",
    "\n",
    "#compute the accuracy of the predictions\n",
    "val_accuracy = accuracy_score(val_labels, val_predicted_labels)\n",
    "print(\"Validation accuracy: \", val_accuracy)\n"
   ]
  },
  {
   "cell_type": "markdown",
   "id": "1fd327a6",
   "metadata": {},
   "source": [
    "### Testing it on the test set"
   ]
  },
  {
   "cell_type": "code",
   "execution_count": 7,
   "id": "e39a0af3",
   "metadata": {
    "execution": {
     "iopub.execute_input": "2023-11-05T20:41:45.371741Z",
     "iopub.status.busy": "2023-11-05T20:41:45.371450Z",
     "iopub.status.idle": "2023-11-05T20:41:45.898620Z",
     "shell.execute_reply": "2023-11-05T20:41:45.898055Z",
     "shell.execute_reply.started": "2023-11-05T20:41:45.371719Z"
    }
   },
   "outputs": [
    {
     "name": "stdout",
     "output_type": "stream",
     "text": [
      "Test accuracy:  0.8794\n"
     ]
    }
   ],
   "source": [
    "#test the model on the test set\n",
    "test_reviews_bow = vectorizer.transform(test_reviews[0])\n",
    "test_predicted_labels = clf.predict(test_reviews_bow)\n",
    "\n",
    "#compute the accuracy of the predictions\n",
    "test_accuracy = accuracy_score(test_labels, test_predicted_labels)\n",
    "print(\"Test accuracy: \", test_accuracy)"
   ]
  },
  {
   "cell_type": "markdown",
   "id": "8be07bb9-69ff-46b6-949e-2d146a8aed92",
   "metadata": {},
   "source": [
    "### Testing it on new data, both positive and negative sentences"
   ]
  },
  {
   "cell_type": "code",
   "execution_count": 8,
   "id": "a1ef2970",
   "metadata": {
    "execution": {
     "iopub.execute_input": "2023-11-05T20:41:45.899417Z",
     "iopub.status.busy": "2023-11-05T20:41:45.899243Z",
     "iopub.status.idle": "2023-11-05T20:41:45.904833Z",
     "shell.execute_reply": "2023-11-05T20:41:45.904337Z",
     "shell.execute_reply.started": "2023-11-05T20:41:45.899398Z"
    }
   },
   "outputs": [
    {
     "name": "stdout",
     "output_type": "stream",
     "text": [
      "Predicted label for new review:  negative\n"
     ]
    }
   ],
   "source": [
    "new_review = \"This movie was atrocious.\"\n",
    "new_review_bow = vectorizer.transform([new_review])\n",
    "new_review_predicted_label = clf.predict(new_review_bow)[0]\n",
    "print(\"Predicted label for new review: \", new_review_predicted_label)"
   ]
  },
  {
   "cell_type": "code",
   "execution_count": 9,
   "id": "c6caeeee-febf-4da0-aa50-4e46e68eaf41",
   "metadata": {
    "execution": {
     "iopub.execute_input": "2023-11-05T20:41:45.905488Z",
     "iopub.status.busy": "2023-11-05T20:41:45.905330Z",
     "iopub.status.idle": "2023-11-05T20:41:45.916840Z",
     "shell.execute_reply": "2023-11-05T20:41:45.916090Z",
     "shell.execute_reply.started": "2023-11-05T20:41:45.905472Z"
    }
   },
   "outputs": [
    {
     "name": "stdout",
     "output_type": "stream",
     "text": [
      "Predicted label for new review:  positive\n"
     ]
    }
   ],
   "source": [
    "new_review = \"A pleasant surprise to see such an ensemble cast in an indie debut film.\"\n",
    "new_review_bow = vectorizer.transform([new_review])\n",
    "new_review_predicted_label = clf.predict(new_review_bow)[0]\n",
    "print(\"Predicted label for new review: \", new_review_predicted_label)"
   ]
  },
  {
   "cell_type": "code",
   "execution_count": 10,
   "id": "8016de57-23ed-4eb9-aa41-3915698ad42a",
   "metadata": {
    "execution": {
     "iopub.execute_input": "2023-11-05T20:41:45.917635Z",
     "iopub.status.busy": "2023-11-05T20:41:45.917470Z",
     "iopub.status.idle": "2023-11-05T20:41:45.922089Z",
     "shell.execute_reply": "2023-11-05T20:41:45.921378Z",
     "shell.execute_reply.started": "2023-11-05T20:41:45.917618Z"
    }
   },
   "outputs": [
    {
     "name": "stdout",
     "output_type": "stream",
     "text": [
      "Predicted label for new review:  negative\n"
     ]
    }
   ],
   "source": [
    "new_review = \"I would like to declare my contempt for these kinds of movies. They are lacking in many aspects.\"\n",
    "new_review_bow = vectorizer.transform([new_review])\n",
    "new_review_predicted_label = clf.predict(new_review_bow)[0]\n",
    "print(\"Predicted label for new review: \", new_review_predicted_label)"
   ]
  },
  {
   "cell_type": "code",
   "execution_count": 11,
   "id": "f3bcc924-7839-4eb5-a376-87e9398060e2",
   "metadata": {
    "execution": {
     "iopub.execute_input": "2023-11-05T20:41:45.922895Z",
     "iopub.status.busy": "2023-11-05T20:41:45.922727Z",
     "iopub.status.idle": "2023-11-05T20:41:45.928169Z",
     "shell.execute_reply": "2023-11-05T20:41:45.927164Z",
     "shell.execute_reply.started": "2023-11-05T20:41:45.922879Z"
    }
   },
   "outputs": [
    {
     "name": "stdout",
     "output_type": "stream",
     "text": [
      "Predicted label for new review:  negative\n"
     ]
    }
   ],
   "source": [
    "new_review = \"Style over substance, no redeeming qualities for this show.\"\n",
    "new_review_bow = vectorizer.transform([new_review])\n",
    "new_review_predicted_label = clf.predict(new_review_bow)[0]\n",
    "print(\"Predicted label for new review: \", new_review_predicted_label)"
   ]
  },
  {
   "cell_type": "code",
   "execution_count": 12,
   "id": "1fa1cb25-9512-4035-bfd7-3f11081b1354",
   "metadata": {
    "execution": {
     "iopub.execute_input": "2023-11-05T20:41:45.928853Z",
     "iopub.status.busy": "2023-11-05T20:41:45.928687Z",
     "iopub.status.idle": "2023-11-05T20:41:45.932890Z",
     "shell.execute_reply": "2023-11-05T20:41:45.932464Z",
     "shell.execute_reply.started": "2023-11-05T20:41:45.928836Z"
    }
   },
   "outputs": [
    {
     "name": "stdout",
     "output_type": "stream",
     "text": [
      "Predicted label for new review:  positive\n"
     ]
    }
   ],
   "source": [
    "new_review = \"This debut delights its audience with some top of the line acting, for such great, coming of age actors.\"\n",
    "new_review_bow = vectorizer.transform([new_review])\n",
    "new_review_predicted_label = clf.predict(new_review_bow)[0]\n",
    "print(\"Predicted label for new review: \", new_review_predicted_label)"
   ]
  },
  {
   "cell_type": "markdown",
   "id": "c2aba38a-657a-4b2f-a3fa-a0f71b5485b9",
   "metadata": {},
   "source": [
    "## II. Using Keras from Tensorflow\n"
   ]
  },
  {
   "cell_type": "code",
   "execution_count": 16,
   "id": "8792dc73-ceb6-4032-9b68-2e52ebfdc8d1",
   "metadata": {
    "execution": {
     "iopub.execute_input": "2023-11-05T20:47:08.313453Z",
     "iopub.status.busy": "2023-11-05T20:47:08.313325Z",
     "iopub.status.idle": "2023-11-05T20:47:11.317179Z",
     "shell.execute_reply": "2023-11-05T20:47:11.316830Z",
     "shell.execute_reply.started": "2023-11-05T20:47:08.313441Z"
    }
   },
   "outputs": [],
   "source": [
    "from sklearn.model_selection import train_test_split\n",
    "labels['target'] = labels[0].factorize()[0] \n",
    "X = vectorizer.fit_transform(reviews[0]).toarray()\n",
    "y = np.array(labels['target'])\n",
    "X_, X_test, y_, y_test = train_test_split(X, y, test_size=0.2, random_state=1)\n",
    "X_train, X_val, y_train, y_val = train_test_split(X_, y_, test_size=0.2, random_state=1)"
   ]
  },
  {
   "cell_type": "code",
   "execution_count": 90,
   "id": "5a7f058b-cccd-494b-86f9-e43f9cb5f9b0",
   "metadata": {
    "execution": {
     "iopub.execute_input": "2023-11-05T22:33:22.722422Z",
     "iopub.status.busy": "2023-11-05T22:33:22.722246Z",
     "iopub.status.idle": "2023-11-05T22:33:40.551597Z",
     "shell.execute_reply": "2023-11-05T22:33:40.551262Z",
     "shell.execute_reply.started": "2023-11-05T22:33:22.722411Z"
    },
    "scrolled": true
   },
   "outputs": [
    {
     "name": "stdout",
     "output_type": "stream",
     "text": [
      "Epoch 1/50\n",
      "267/267 [==============================] - 2s 6ms/step - loss: 0.3640 - accuracy: 0.8584 - val_loss: 0.3046 - val_accuracy: 0.8798\n",
      "Epoch 2/50\n",
      "267/267 [==============================] - 2s 6ms/step - loss: 0.2125 - accuracy: 0.9231 - val_loss: 0.3450 - val_accuracy: 0.8692\n",
      "Epoch 3/50\n",
      "267/267 [==============================] - 2s 6ms/step - loss: 0.1560 - accuracy: 0.9459 - val_loss: 0.3196 - val_accuracy: 0.8773\n",
      "Epoch 4/50\n",
      "267/267 [==============================] - 2s 6ms/step - loss: 0.1159 - accuracy: 0.9634 - val_loss: 0.3456 - val_accuracy: 0.8752\n",
      "Epoch 5/50\n",
      "267/267 [==============================] - 2s 6ms/step - loss: 0.0854 - accuracy: 0.9749 - val_loss: 0.3797 - val_accuracy: 0.8758\n",
      "Epoch 6/50\n",
      "267/267 [==============================] - 2s 6ms/step - loss: 0.0608 - accuracy: 0.9841 - val_loss: 0.4044 - val_accuracy: 0.8767\n",
      "Epoch 7/50\n",
      "267/267 [==============================] - 2s 6ms/step - loss: 0.0420 - accuracy: 0.9908 - val_loss: 0.4541 - val_accuracy: 0.8755\n",
      "Epoch 8/50\n",
      "267/267 [==============================] - 2s 6ms/step - loss: 0.0282 - accuracy: 0.9947 - val_loss: 0.4824 - val_accuracy: 0.8730\n",
      "Epoch 9/50\n",
      "267/267 [==============================] - 2s 6ms/step - loss: 0.0182 - accuracy: 0.9976 - val_loss: 0.5251 - val_accuracy: 0.8700\n",
      "Epoch 10/50\n",
      "267/267 [==============================] - 1s 5ms/step - loss: 0.0125 - accuracy: 0.9987 - val_loss: 0.5600 - val_accuracy: 0.8727\n",
      "Epoch 11/50\n",
      "267/267 [==============================] - 1s 6ms/step - loss: 0.0082 - accuracy: 0.9996 - val_loss: 0.6075 - val_accuracy: 0.8742\n"
     ]
    }
   ],
   "source": [
    "from tensorflow import keras\n",
    "import numpy as np\n",
    "import tensorflow as tf\n",
    "model = keras.Sequential([\n",
    "    keras.layers.Dense(128, activation='relu', input_dim=X_train.shape[1]),\n",
    "    keras.layers.Dense(1, activation='sigmoid')\n",
    "])\n",
    "\n",
    "model.compile(optimizer=keras.optimizers.Adamax(learning_rate=0.002),\n",
    "              loss='binary_crossentropy',\n",
    "              metrics=['accuracy'])\n",
    "\n",
    "es = tf.keras.callbacks.EarlyStopping(patience=10, restore_best_weights=True)\n",
    "history = model.fit(X_train, y_train, epochs=50, batch_size=60, validation_data=(X_val, y_val), callbacks=[es])"
   ]
  },
  {
   "cell_type": "markdown",
   "id": "2befe001-012c-4e24-ac00-9198602bd818",
   "metadata": {},
   "source": [
    "## Plot of the learning curve, loss in each epoch, training and validation sets"
   ]
  },
  {
   "cell_type": "code",
   "execution_count": 91,
   "id": "06b12a33-6771-41da-b155-307537d28fe4",
   "metadata": {
    "execution": {
     "iopub.execute_input": "2023-11-05T22:33:40.559164Z",
     "iopub.status.busy": "2023-11-05T22:33:40.558974Z",
     "iopub.status.idle": "2023-11-05T22:33:40.647099Z",
     "shell.execute_reply": "2023-11-05T22:33:40.646697Z",
     "shell.execute_reply.started": "2023-11-05T22:33:40.559153Z"
    }
   },
   "outputs": [
    {
     "data": {
      "image/png": "[encoded data removed]",
      "text/plain": [
       "<Figure size 640x480 with 1 Axes>"
      ]
     },
     "metadata": {},
     "output_type": "display_data"
    }
   ],
   "source": [
    "import matplotlib.pyplot as plt\n",
    "plt.figure()\n",
    "plt.title(\"Learning curves\")\n",
    "plt.xlabel(\"Epoch\")\n",
    "plt.ylabel(\"Cross entropy loss\")\n",
    "plt.plot(history.history['loss'], label = 'training')\n",
    "plt.plot(history.history['val_loss'], label = 'validation')\n",
    "plt.legend()\n",
    "plt.show()"
   ]
  },
  {
   "cell_type": "markdown",
   "id": "9fa9f6c7-3a41-40e1-84b2-b806822966a3",
   "metadata": {},
   "source": [
    "## Test accuracy"
   ]
  },
  {
   "cell_type": "code",
   "execution_count": 92,
   "id": "537e1648-2dde-40ca-9e49-7db5a51d296b",
   "metadata": {
    "execution": {
     "iopub.execute_input": "2023-11-05T22:33:40.656045Z",
     "iopub.status.busy": "2023-11-05T22:33:40.655830Z",
     "iopub.status.idle": "2023-11-05T22:33:40.951034Z",
     "shell.execute_reply": "2023-11-05T22:33:40.950712Z",
     "shell.execute_reply.started": "2023-11-05T22:33:40.656026Z"
    }
   },
   "outputs": [
    {
     "name": "stdout",
     "output_type": "stream",
     "text": [
      "157/157 [==============================] - 0s 897us/step\n",
      "Test accuracy:  0.882\n"
     ]
    }
   ],
   "source": [
    "y_pred = model.predict(X_test)\n",
    "\n",
    "# converting the predicted values to binary values based on a threshold (e.g., 0.5 for binary classification)\n",
    "y_pred_binary = (y_pred > 0.5).astype(int)\n",
    "test_accuracy = accuracy_score(y_test, y_pred_binary)\n",
    "print(\"Test accuracy: \", test_accuracy)"
   ]
  },
  {
   "cell_type": "markdown",
   "id": "618da856-d0d8-487a-a2e4-e92741b3d976",
   "metadata": {},
   "source": [
    "## Predictions on new data"
   ]
  },
  {
   "cell_type": "code",
   "execution_count": 93,
   "id": "53b1a37f-90b3-4271-9de8-d3b82a5ceb10",
   "metadata": {
    "execution": {
     "iopub.execute_input": "2023-11-05T22:33:40.983167Z",
     "iopub.status.busy": "2023-11-05T22:33:40.983044Z",
     "iopub.status.idle": "2023-11-05T22:33:40.985468Z",
     "shell.execute_reply": "2023-11-05T22:33:40.985192Z",
     "shell.execute_reply.started": "2023-11-05T22:33:40.983157Z"
    }
   },
   "outputs": [],
   "source": [
    "def predict_sentiment(review_text, vectorizer, model):\n",
    "    new_review_bow = vectorizer.transform([review_text]).toarray()\n",
    "    new_review_predicted_label = model.predict(new_review_bow)\n",
    "    y_pred_binary = (new_review_predicted_label > 0.5).astype(int)\n",
    "\n",
    "    # Map binary prediction to 'positive' or 'negative'\n",
    "    if y_pred_binary == 0:\n",
    "        predicted_label = 'positive'\n",
    "    else:\n",
    "        predicted_label = 'negative'\n",
    "\n",
    "    return predicted_label"
   ]
  },
  {
   "cell_type": "code",
   "execution_count": 94,
   "id": "8eba48e3-a9bd-4fae-826b-760443815807",
   "metadata": {
    "execution": {
     "iopub.execute_input": "2023-11-05T22:33:40.989658Z",
     "iopub.status.busy": "2023-11-05T22:33:40.989485Z",
     "iopub.status.idle": "2023-11-05T22:33:41.021822Z",
     "shell.execute_reply": "2023-11-05T22:33:41.021516Z",
     "shell.execute_reply.started": "2023-11-05T22:33:40.989649Z"
    }
   },
   "outputs": [
    {
     "name": "stdout",
     "output_type": "stream",
     "text": [
      "1/1 [==============================] - 0s 10ms/step\n"
     ]
    },
    {
     "data": {
      "text/plain": [
       "'negative'"
      ]
     },
     "execution_count": 94,
     "metadata": {},
     "output_type": "execute_result"
    }
   ],
   "source": [
    "new_review = \"I would like to declare my contempt for these kinds of movies. They are lacking in many aspects.\"\n",
    "predict_sentiment(new_review, vectorizer, model)"
   ]
  },
  {
   "cell_type": "code",
   "execution_count": 95,
   "id": "49004f15-8c19-4770-bea1-3faef7fe8a2b",
   "metadata": {
    "execution": {
     "iopub.execute_input": "2023-11-05T22:33:41.022608Z",
     "iopub.status.busy": "2023-11-05T22:33:41.022422Z",
     "iopub.status.idle": "2023-11-05T22:33:41.055264Z",
     "shell.execute_reply": "2023-11-05T22:33:41.054933Z",
     "shell.execute_reply.started": "2023-11-05T22:33:41.022591Z"
    }
   },
   "outputs": [
    {
     "name": "stdout",
     "output_type": "stream",
     "text": [
      "1/1 [==============================] - 0s 11ms/step\n"
     ]
    },
    {
     "data": {
      "text/plain": [
       "'positive'"
      ]
     },
     "execution_count": 95,
     "metadata": {},
     "output_type": "execute_result"
    }
   ],
   "source": [
    "new_review = \"Very interesting movie, it got me into my new hobby of spanking my monkey.\"\n",
    "predict_sentiment(new_review, vectorizer, model)"
   ]
  },
  {
   "cell_type": "code",
   "execution_count": 96,
   "id": "ddfe58a6-4890-4bb1-abca-2d73b8af1847",
   "metadata": {
    "execution": {
     "iopub.execute_input": "2023-11-05T22:33:41.057877Z",
     "iopub.status.busy": "2023-11-05T22:33:41.057760Z",
     "iopub.status.idle": "2023-11-05T22:33:41.088788Z",
     "shell.execute_reply": "2023-11-05T22:33:41.088464Z",
     "shell.execute_reply.started": "2023-11-05T22:33:41.057867Z"
    }
   },
   "outputs": [
    {
     "name": "stdout",
     "output_type": "stream",
     "text": [
      "1/1 [==============================] - 0s 11ms/step\n"
     ]
    },
    {
     "data": {
      "text/plain": [
       "'negative'"
      ]
     },
     "execution_count": 96,
     "metadata": {},
     "output_type": "execute_result"
    }
   ],
   "source": [
    "new_review = \"Really disturbing, very bad, kind of appaling experience.\"\n",
    "predict_sentiment(new_review, vectorizer, model)"
   ]
  },
  {
   "cell_type": "code",
   "execution_count": 106,
   "id": "52a531f5-b591-4ea3-91d9-8e547edfd25a",
   "metadata": {
    "execution": {
     "iopub.execute_input": "2023-11-05T22:41:05.314289Z",
     "iopub.status.busy": "2023-11-05T22:41:05.314142Z",
     "iopub.status.idle": "2023-11-05T22:41:05.348507Z",
     "shell.execute_reply": "2023-11-05T22:41:05.348166Z",
     "shell.execute_reply.started": "2023-11-05T22:41:05.314279Z"
    }
   },
   "outputs": [
    {
     "name": "stdout",
     "output_type": "stream",
     "text": [
      "1/1 [==============================] - 0s 12ms/step\n"
     ]
    },
    {
     "data": {
      "text/plain": [
       "'negative'"
      ]
     },
     "execution_count": 106,
     "metadata": {},
     "output_type": "execute_result"
    }
   ],
   "source": [
    "new_review = \" No creativity whatsoever, this movie sucks.\"\n",
    "predict_sentiment(new_review, vectorizer, model)"
   ]
  }
 ],
 "metadata": {
  "kernelspec": {
   "display_name": "Python 3 (ipykernel)",
   "language": "python",
   "name": "python3"
  },
  "language_info": {
   "codemirror_mode": {
    "name": "ipython",
    "version": 3
   },
   "file_extension": ".py",
   "mimetype": "text/x-python",
   "name": "python",
   "nbconvert_exporter": "python",
   "pygments_lexer": "ipython3",
   "version": "3.11.5"
  }
 },
 "nbformat": 4,
 "nbformat_minor": 5
}
