{
 "cells": [
  {
   "cell_type": "code",
   "execution_count": null,
   "id": "b26dae0f",
   "metadata": {},
   "outputs": [],
   "source": [
    "import tensorflow as tf\n",
    "from tensorflow.keras import layers\n",
    "\n",
    "from sklearn.datasets import load_digits\n",
    "from sklearn.model_selection import train_test_split\n",
    "\n",
    "import matplotlib.pyplot as plt\n",
    "\n",
    "\n",
    "import numpy as np\n",
    "from numpy.random import seed, randint"
   ]
  },
  {
   "cell_type": "code",
   "execution_count": null,
   "id": "83d6f4f9",
   "metadata": {},
   "outputs": [],
   "source": [
    "seed(504)\n",
    "tf.random.set_seed(504)"
   ]
  },
  {
   "cell_type": "markdown",
   "id": "87ac7ab7",
   "metadata": {},
   "source": [
    "# Getting the data"
   ]
  },
  {
   "cell_type": "code",
   "execution_count": null,
   "id": "39c71894",
   "metadata": {},
   "outputs": [],
   "source": [
    "digits = load_digits()\n",
    "\n",
    "a = randint(low = 0, high = len(digits.data) - 1)\n",
    "plt.imshow(digits.images[a])\n",
    "print(\"This digit is {}\".format(digits.target[a]))"
   ]
  },
  {
   "cell_type": "markdown",
   "id": "d46a239d",
   "metadata": {},
   "source": [
    "# Training the neural network"
   ]
  },
  {
   "cell_type": "code",
   "execution_count": null,
   "id": "637eaea9",
   "metadata": {},
   "outputs": [],
   "source": [
    "num_classes = 10\n",
    "X = digits.data\n",
    "y = digits.target\n",
    "Y = tf.keras.utils.to_categorical(y, num_classes)\n",
    "X_train, X_test, Y_train, Y_test = train_test_split(X, Y, stratify = Y)\n",
    "input_size = X.shape[1]"
   ]
  },
  {
   "cell_type": "code",
   "execution_count": null,
   "id": "e794eed9",
   "metadata": {},
   "outputs": [],
   "source": [
    "callback = tf.keras.callbacks.EarlyStopping(monitor = 'val_accuracy', patience = 10)\n",
    "\n",
    "model = tf.keras.models.Sequential([\n",
    "    layers.Dense(units = 16, activation = 'tanh', input_dim = input_size, kernel_regularizer=tf.keras.regularizers.l2(0.001)),\n",
    "    layers.Dropout(0.2),\n",
    "    layers.Dense(units = num_classes, activation = 'softmax')\n",
    "])\n",
    "\n",
    "model.compile(loss = 'categorical_crossentropy', optimizer = tf.keras.optimizers.Adam(learning_rate = 0.005), metrics = ['accuracy'])\n",
    "\n",
    "history = model.fit(X_train, Y_train, \n",
    "                    epochs = 100, \n",
    "                    validation_split = 0.2, \n",
    "                    callbacks = [callback])"
   ]
  },
  {
   "cell_type": "code",
   "execution_count": null,
   "id": "823bffdc",
   "metadata": {},
   "outputs": [],
   "source": [
    "plt.figure()\n",
    "plt.title(\"Learning curves\")\n",
    "plt.xlabel(\"Epoch\")\n",
    "plt.ylabel(\"Cross entropy loss\")\n",
    "plt.plot(history.history['loss'], label = 'train')\n",
    "plt.plot(history.history['val_loss'], label = 'valid')\n",
    "plt.legend()\n",
    "plt.show()"
   ]
  },
  {
   "cell_type": "code",
   "execution_count": null,
   "id": "8bf937d0",
   "metadata": {},
   "outputs": [],
   "source": [
    "print(\"Loss + accuracy on train data: {}\".format(model.evaluate(X_train, Y_train)))\n",
    "print(\"Loss + accuracy on test data: {}\".format(model.evaluate(X_test, Y_test)))"
   ]
  },
  {
   "cell_type": "markdown",
   "id": "3fc6fc96",
   "metadata": {},
   "source": [
    "# Consider misclassified digits"
   ]
  },
  {
   "cell_type": "code",
   "execution_count": null,
   "id": "3ca110a9",
   "metadata": {},
   "outputs": [],
   "source": [
    "probabilities = np.array(model.predict(X_test))\n",
    "predictions = np.argmax(probabilities, axis = 1) #what does the model predict\n",
    "labels = np.argmax(Y_test, axis = 1) #what are the actual labels\n",
    "\n",
    "print(\"Predictions = {}\".format(predictions[0:30]))\n",
    "print(\"Labels      = {}\".format(labels[0:30]))"
   ]
  },
  {
   "cell_type": "code",
   "execution_count": null,
   "id": "0b427657",
   "metadata": {},
   "outputs": [],
   "source": [
    "misclas_idxs = np.argwhere(predictions != labels)\n",
    "\n",
    "b = randint(low = 0, high = len(misclas_idxs) - 1) #choose a random index\n",
    "a = misclas_idxs[b][0] # find out what image that index is\n",
    "plt.imshow(np.reshape(X_test[a], (8,8)))\n",
    "print(\"This digit is {}, but classified as {}.\".format(labels[a], predictions[a]))"
   ]
  },
  {
   "cell_type": "code",
   "execution_count": null,
   "id": "e8c2ffe6",
   "metadata": {},
   "outputs": [],
   "source": []
  }
 ],
 "metadata": {
  "kernelspec": {
   "display_name": "Python 3 (ipykernel)",
   "language": "python",
   "name": "python3"
  },
  "language_info": {
   "codemirror_mode": {
    "name": "ipython",
    "version": 3
   },
   "file_extension": ".py",
   "mimetype": "text/x-python",
   "name": "python",
   "nbconvert_exporter": "python",
   "pygments_lexer": "ipython3",
   "version": "3.11.5"
  }
 },
 "nbformat": 4,
 "nbformat_minor": 5
}
